{
 "cells": [
  {
   "cell_type": "code",
   "execution_count": 1,
   "id": "11b57717",
   "metadata": {},
   "outputs": [],
   "source": [
    "import pandas as pd\n",
    "import numpy as np\n",
    "import seaborn as sns\n",
    "import matplotlib.pyplot as plt\n",
    "import warnings\n",
    "warnings.filterwarnings(action='ignore')"
   ]
  },
  {
   "cell_type": "code",
   "execution_count": 2,
   "id": "89fe362b",
   "metadata": {},
   "outputs": [],
   "source": [
    "import os"
   ]
  },
  {
   "cell_type": "code",
   "execution_count": 3,
   "id": "f1b1d0be",
   "metadata": {},
   "outputs": [
    {
     "name": "stdout",
     "output_type": "stream",
     "text": [
      " C 드라이브의 볼륨에는 이름이 없습니다.\n",
      " 볼륨 일련 번호: BCE1-4BD5\n",
      "\n",
      " C:\\Users\\admin\\파이썬_머신러닝_완벽가이드 디렉터리\n",
      "\n",
      "2023-08-02  오후 02:56    <DIR>          .\n",
      "2023-08-02  오후 02:56    <DIR>          ..\n",
      "2023-08-02  오후 01:58    <DIR>          .ipynb_checkpoints\n",
      "2023-07-26  오전 11:35            21,539 1. 넘파이.ipynb\n",
      "2023-07-28  오후 01:05           164,621 2. 사이킷런으로 시작하는 머신러닝.ipynb\n",
      "2023-07-28  오후 05:40           220,861 3.  평가.ipynb\n",
      "2023-08-01  오후 05:46           736,054 4.  분류.ipynb\n",
      "2023-08-02  오후 01:01           443,867 5. 회귀.ipynb\n",
      "2020-03-10  오후 01:20           211,884 Bank_Personal_Loan_Modelling.csv\n",
      "2019-09-20  오전 12:04       150,828,752 creditcard.csv\n",
      "2019-09-20  오전 12:05        69,155,672 creditcardfraud.zip\n",
      "2020-03-10  오후 01:20            62,016 personal-loan-modeling.zip\n",
      "2023-08-01  오후 01:44             6,400 tree.dot\n",
      "2023-08-02  오후 02:33         1,777,830 [실습] 개인 대출 모델링.ipynb\n",
      "2023-08-01  오전 10:40           174,780 [실습] 캐글 신용카드 사기 검출.ipynb\n",
      "2023-08-02  오후 02:56           225,732 [황태언] 수요예측.ipynb\n",
      "              13개 파일         224,030,008 바이트\n",
      "               3개 디렉터리  424,145,956,864 바이트 남음\n"
     ]
    }
   ],
   "source": [
    "!dir"
   ]
  },
  {
   "cell_type": "code",
   "execution_count": 4,
   "id": "f341854a",
   "metadata": {},
   "outputs": [],
   "source": [
    "# pd.read_csv()로 csv파일 읽어들이기\n",
    "bike_df = pd.read_csv('C:/sample_data/bike_train.csv')"
   ]
  },
  {
   "cell_type": "code",
   "execution_count": 5,
   "id": "b93b26ed",
   "metadata": {},
   "outputs": [
    {
     "name": "stdout",
     "output_type": "stream",
     "text": [
      "(10886, 12)\n"
     ]
    },
    {
     "data": {
      "text/html": [
       "<div>\n",
       "<style scoped>\n",
       "    .dataframe tbody tr th:only-of-type {\n",
       "        vertical-align: middle;\n",
       "    }\n",
       "\n",
       "    .dataframe tbody tr th {\n",
       "        vertical-align: top;\n",
       "    }\n",
       "\n",
       "    .dataframe thead th {\n",
       "        text-align: right;\n",
       "    }\n",
       "</style>\n",
       "<table border=\"1\" class=\"dataframe\">\n",
       "  <thead>\n",
       "    <tr style=\"text-align: right;\">\n",
       "      <th></th>\n",
       "      <th>datetime</th>\n",
       "      <th>season</th>\n",
       "      <th>holiday</th>\n",
       "      <th>workingday</th>\n",
       "      <th>weather</th>\n",
       "      <th>temp</th>\n",
       "      <th>atemp</th>\n",
       "      <th>humidity</th>\n",
       "      <th>windspeed</th>\n",
       "      <th>casual</th>\n",
       "      <th>registered</th>\n",
       "      <th>count</th>\n",
       "    </tr>\n",
       "  </thead>\n",
       "  <tbody>\n",
       "    <tr>\n",
       "      <th>0</th>\n",
       "      <td>2011-01-01 00:00:00</td>\n",
       "      <td>1</td>\n",
       "      <td>0</td>\n",
       "      <td>0</td>\n",
       "      <td>1</td>\n",
       "      <td>9.84</td>\n",
       "      <td>14.395</td>\n",
       "      <td>81</td>\n",
       "      <td>0.0</td>\n",
       "      <td>3</td>\n",
       "      <td>13</td>\n",
       "      <td>16</td>\n",
       "    </tr>\n",
       "    <tr>\n",
       "      <th>1</th>\n",
       "      <td>2011-01-01 01:00:00</td>\n",
       "      <td>1</td>\n",
       "      <td>0</td>\n",
       "      <td>0</td>\n",
       "      <td>1</td>\n",
       "      <td>9.02</td>\n",
       "      <td>13.635</td>\n",
       "      <td>80</td>\n",
       "      <td>0.0</td>\n",
       "      <td>8</td>\n",
       "      <td>32</td>\n",
       "      <td>40</td>\n",
       "    </tr>\n",
       "    <tr>\n",
       "      <th>2</th>\n",
       "      <td>2011-01-01 02:00:00</td>\n",
       "      <td>1</td>\n",
       "      <td>0</td>\n",
       "      <td>0</td>\n",
       "      <td>1</td>\n",
       "      <td>9.02</td>\n",
       "      <td>13.635</td>\n",
       "      <td>80</td>\n",
       "      <td>0.0</td>\n",
       "      <td>5</td>\n",
       "      <td>27</td>\n",
       "      <td>32</td>\n",
       "    </tr>\n",
       "    <tr>\n",
       "      <th>3</th>\n",
       "      <td>2011-01-01 03:00:00</td>\n",
       "      <td>1</td>\n",
       "      <td>0</td>\n",
       "      <td>0</td>\n",
       "      <td>1</td>\n",
       "      <td>9.84</td>\n",
       "      <td>14.395</td>\n",
       "      <td>75</td>\n",
       "      <td>0.0</td>\n",
       "      <td>3</td>\n",
       "      <td>10</td>\n",
       "      <td>13</td>\n",
       "    </tr>\n",
       "    <tr>\n",
       "      <th>4</th>\n",
       "      <td>2011-01-01 04:00:00</td>\n",
       "      <td>1</td>\n",
       "      <td>0</td>\n",
       "      <td>0</td>\n",
       "      <td>1</td>\n",
       "      <td>9.84</td>\n",
       "      <td>14.395</td>\n",
       "      <td>75</td>\n",
       "      <td>0.0</td>\n",
       "      <td>0</td>\n",
       "      <td>1</td>\n",
       "      <td>1</td>\n",
       "    </tr>\n",
       "  </tbody>\n",
       "</table>\n",
       "</div>"
      ],
      "text/plain": [
       "              datetime  season  holiday  workingday  weather  temp   atemp  \\\n",
       "0  2011-01-01 00:00:00       1        0           0        1  9.84  14.395   \n",
       "1  2011-01-01 01:00:00       1        0           0        1  9.02  13.635   \n",
       "2  2011-01-01 02:00:00       1        0           0        1  9.02  13.635   \n",
       "3  2011-01-01 03:00:00       1        0           0        1  9.84  14.395   \n",
       "4  2011-01-01 04:00:00       1        0           0        1  9.84  14.395   \n",
       "\n",
       "   humidity  windspeed  casual  registered  count  \n",
       "0        81        0.0       3          13     16  \n",
       "1        80        0.0       8          32     40  \n",
       "2        80        0.0       5          27     32  \n",
       "3        75        0.0       3          10     13  \n",
       "4        75        0.0       0           1      1  "
      ]
     },
     "execution_count": 5,
     "metadata": {},
     "output_type": "execute_result"
    }
   ],
   "source": [
    "print(bike_df.shape)\n",
    "bike_df.head()"
   ]
  },
  {
   "cell_type": "code",
   "execution_count": 6,
   "id": "416f0bf8",
   "metadata": {},
   "outputs": [
    {
     "name": "stdout",
     "output_type": "stream",
     "text": [
      "<class 'pandas.core.frame.DataFrame'>\n",
      "RangeIndex: 10886 entries, 0 to 10885\n",
      "Data columns (total 12 columns):\n",
      " #   Column      Non-Null Count  Dtype  \n",
      "---  ------      --------------  -----  \n",
      " 0   datetime    10886 non-null  object \n",
      " 1   season      10886 non-null  int64  \n",
      " 2   holiday     10886 non-null  int64  \n",
      " 3   workingday  10886 non-null  int64  \n",
      " 4   weather     10886 non-null  int64  \n",
      " 5   temp        10886 non-null  float64\n",
      " 6   atemp       10886 non-null  float64\n",
      " 7   humidity    10886 non-null  int64  \n",
      " 8   windspeed   10886 non-null  float64\n",
      " 9   casual      10886 non-null  int64  \n",
      " 10  registered  10886 non-null  int64  \n",
      " 11  count       10886 non-null  int64  \n",
      "dtypes: float64(3), int64(8), object(1)\n",
      "memory usage: 1020.7+ KB\n"
     ]
    }
   ],
   "source": [
    "bike_df.info()"
   ]
  },
  {
   "cell_type": "code",
   "execution_count": 7,
   "id": "0f52d443",
   "metadata": {},
   "outputs": [
    {
     "data": {
      "text/html": [
       "<div>\n",
       "<style scoped>\n",
       "    .dataframe tbody tr th:only-of-type {\n",
       "        vertical-align: middle;\n",
       "    }\n",
       "\n",
       "    .dataframe tbody tr th {\n",
       "        vertical-align: top;\n",
       "    }\n",
       "\n",
       "    .dataframe thead th {\n",
       "        text-align: right;\n",
       "    }\n",
       "</style>\n",
       "<table border=\"1\" class=\"dataframe\">\n",
       "  <thead>\n",
       "    <tr style=\"text-align: right;\">\n",
       "      <th></th>\n",
       "      <th>season</th>\n",
       "      <th>holiday</th>\n",
       "      <th>workingday</th>\n",
       "      <th>weather</th>\n",
       "      <th>temp</th>\n",
       "      <th>atemp</th>\n",
       "      <th>humidity</th>\n",
       "      <th>windspeed</th>\n",
       "      <th>casual</th>\n",
       "      <th>registered</th>\n",
       "      <th>count</th>\n",
       "    </tr>\n",
       "  </thead>\n",
       "  <tbody>\n",
       "    <tr>\n",
       "      <th>count</th>\n",
       "      <td>10886.000000</td>\n",
       "      <td>10886.000000</td>\n",
       "      <td>10886.000000</td>\n",
       "      <td>10886.000000</td>\n",
       "      <td>10886.00000</td>\n",
       "      <td>10886.000000</td>\n",
       "      <td>10886.000000</td>\n",
       "      <td>10886.000000</td>\n",
       "      <td>10886.000000</td>\n",
       "      <td>10886.000000</td>\n",
       "      <td>10886.000000</td>\n",
       "    </tr>\n",
       "    <tr>\n",
       "      <th>mean</th>\n",
       "      <td>2.506614</td>\n",
       "      <td>0.028569</td>\n",
       "      <td>0.680875</td>\n",
       "      <td>1.418427</td>\n",
       "      <td>20.23086</td>\n",
       "      <td>23.655084</td>\n",
       "      <td>61.886460</td>\n",
       "      <td>12.799395</td>\n",
       "      <td>36.021955</td>\n",
       "      <td>155.552177</td>\n",
       "      <td>191.574132</td>\n",
       "    </tr>\n",
       "    <tr>\n",
       "      <th>std</th>\n",
       "      <td>1.116174</td>\n",
       "      <td>0.166599</td>\n",
       "      <td>0.466159</td>\n",
       "      <td>0.633839</td>\n",
       "      <td>7.79159</td>\n",
       "      <td>8.474601</td>\n",
       "      <td>19.245033</td>\n",
       "      <td>8.164537</td>\n",
       "      <td>49.960477</td>\n",
       "      <td>151.039033</td>\n",
       "      <td>181.144454</td>\n",
       "    </tr>\n",
       "    <tr>\n",
       "      <th>min</th>\n",
       "      <td>1.000000</td>\n",
       "      <td>0.000000</td>\n",
       "      <td>0.000000</td>\n",
       "      <td>1.000000</td>\n",
       "      <td>0.82000</td>\n",
       "      <td>0.760000</td>\n",
       "      <td>0.000000</td>\n",
       "      <td>0.000000</td>\n",
       "      <td>0.000000</td>\n",
       "      <td>0.000000</td>\n",
       "      <td>1.000000</td>\n",
       "    </tr>\n",
       "    <tr>\n",
       "      <th>25%</th>\n",
       "      <td>2.000000</td>\n",
       "      <td>0.000000</td>\n",
       "      <td>0.000000</td>\n",
       "      <td>1.000000</td>\n",
       "      <td>13.94000</td>\n",
       "      <td>16.665000</td>\n",
       "      <td>47.000000</td>\n",
       "      <td>7.001500</td>\n",
       "      <td>4.000000</td>\n",
       "      <td>36.000000</td>\n",
       "      <td>42.000000</td>\n",
       "    </tr>\n",
       "    <tr>\n",
       "      <th>50%</th>\n",
       "      <td>3.000000</td>\n",
       "      <td>0.000000</td>\n",
       "      <td>1.000000</td>\n",
       "      <td>1.000000</td>\n",
       "      <td>20.50000</td>\n",
       "      <td>24.240000</td>\n",
       "      <td>62.000000</td>\n",
       "      <td>12.998000</td>\n",
       "      <td>17.000000</td>\n",
       "      <td>118.000000</td>\n",
       "      <td>145.000000</td>\n",
       "    </tr>\n",
       "    <tr>\n",
       "      <th>75%</th>\n",
       "      <td>4.000000</td>\n",
       "      <td>0.000000</td>\n",
       "      <td>1.000000</td>\n",
       "      <td>2.000000</td>\n",
       "      <td>26.24000</td>\n",
       "      <td>31.060000</td>\n",
       "      <td>77.000000</td>\n",
       "      <td>16.997900</td>\n",
       "      <td>49.000000</td>\n",
       "      <td>222.000000</td>\n",
       "      <td>284.000000</td>\n",
       "    </tr>\n",
       "    <tr>\n",
       "      <th>max</th>\n",
       "      <td>4.000000</td>\n",
       "      <td>1.000000</td>\n",
       "      <td>1.000000</td>\n",
       "      <td>4.000000</td>\n",
       "      <td>41.00000</td>\n",
       "      <td>45.455000</td>\n",
       "      <td>100.000000</td>\n",
       "      <td>56.996900</td>\n",
       "      <td>367.000000</td>\n",
       "      <td>886.000000</td>\n",
       "      <td>977.000000</td>\n",
       "    </tr>\n",
       "  </tbody>\n",
       "</table>\n",
       "</div>"
      ],
      "text/plain": [
       "             season       holiday    workingday       weather         temp  \\\n",
       "count  10886.000000  10886.000000  10886.000000  10886.000000  10886.00000   \n",
       "mean       2.506614      0.028569      0.680875      1.418427     20.23086   \n",
       "std        1.116174      0.166599      0.466159      0.633839      7.79159   \n",
       "min        1.000000      0.000000      0.000000      1.000000      0.82000   \n",
       "25%        2.000000      0.000000      0.000000      1.000000     13.94000   \n",
       "50%        3.000000      0.000000      1.000000      1.000000     20.50000   \n",
       "75%        4.000000      0.000000      1.000000      2.000000     26.24000   \n",
       "max        4.000000      1.000000      1.000000      4.000000     41.00000   \n",
       "\n",
       "              atemp      humidity     windspeed        casual    registered  \\\n",
       "count  10886.000000  10886.000000  10886.000000  10886.000000  10886.000000   \n",
       "mean      23.655084     61.886460     12.799395     36.021955    155.552177   \n",
       "std        8.474601     19.245033      8.164537     49.960477    151.039033   \n",
       "min        0.760000      0.000000      0.000000      0.000000      0.000000   \n",
       "25%       16.665000     47.000000      7.001500      4.000000     36.000000   \n",
       "50%       24.240000     62.000000     12.998000     17.000000    118.000000   \n",
       "75%       31.060000     77.000000     16.997900     49.000000    222.000000   \n",
       "max       45.455000    100.000000     56.996900    367.000000    886.000000   \n",
       "\n",
       "              count  \n",
       "count  10886.000000  \n",
       "mean     191.574132  \n",
       "std      181.144454  \n",
       "min        1.000000  \n",
       "25%       42.000000  \n",
       "50%      145.000000  \n",
       "75%      284.000000  \n",
       "max      977.000000  "
      ]
     },
     "execution_count": 7,
     "metadata": {},
     "output_type": "execute_result"
    }
   ],
   "source": [
    "bike_df.describe()"
   ]
  },
  {
   "cell_type": "code",
   "execution_count": 8,
   "id": "792f9372",
   "metadata": {},
   "outputs": [
    {
     "data": {
      "text/plain": [
       "Index(['datetime', 'season', 'holiday', 'workingday', 'weather', 'temp',\n",
       "       'atemp', 'humidity', 'windspeed', 'casual', 'registered', 'count'],\n",
       "      dtype='object')"
      ]
     },
     "execution_count": 8,
     "metadata": {},
     "output_type": "execute_result"
    }
   ],
   "source": [
    "bike_df.columns"
   ]
  },
  {
   "cell_type": "code",
   "execution_count": 9,
   "id": "5cc6f24d",
   "metadata": {},
   "outputs": [
    {
     "data": {
      "text/plain": [
       "datetime      0\n",
       "season        0\n",
       "holiday       0\n",
       "workingday    0\n",
       "weather       0\n",
       "temp          0\n",
       "atemp         0\n",
       "humidity      0\n",
       "windspeed     0\n",
       "casual        0\n",
       "registered    0\n",
       "count         0\n",
       "dtype: int64"
      ]
     },
     "execution_count": 9,
     "metadata": {},
     "output_type": "execute_result"
    }
   ],
   "source": [
    "bike_df.isna().sum()"
   ]
  },
  {
   "cell_type": "markdown",
   "id": "a97b8291",
   "metadata": {},
   "source": [
    "## 데이터 EDM 및 해석"
   ]
  },
  {
   "cell_type": "code",
   "execution_count": 10,
   "id": "2435dce6",
   "metadata": {},
   "outputs": [
    {
     "data": {
      "text/plain": [
       "<Axes: xlabel='season', ylabel='count'>"
      ]
     },
     "execution_count": 10,
     "metadata": {},
     "output_type": "execute_result"
    },
    {
     "data": {
      "image/png": "[encoded data removed]",
      "text/plain": [
       "<Figure size 640x480 with 1 Axes>"
      ]
     },
     "metadata": {},
     "output_type": "display_data"
    }
   ],
   "source": [
    "# 날씨에 따른 데이터 (1: 봄, 2: 여름, 3: 가을, 4: 겨울)\n",
    "sns.countplot(x='season', data=bike_df)"
   ]
  },
  {
   "cell_type": "code",
   "execution_count": 11,
   "id": "df77f373",
   "metadata": {},
   "outputs": [
    {
     "data": {
      "text/plain": [
       "season\n",
       "1    2686\n",
       "2    2733\n",
       "3    2733\n",
       "4    2734\n",
       "Name: count, dtype: int64"
      ]
     },
     "execution_count": 11,
     "metadata": {},
     "output_type": "execute_result"
    }
   ],
   "source": [
    "bike_df.groupby(['season']).count()['count']"
   ]
  },
  {
   "cell_type": "code",
   "execution_count": 12,
   "id": "cf0d027a",
   "metadata": {},
   "outputs": [
    {
     "data": {
      "text/plain": [
       "<Axes: xlabel='holiday', ylabel='count'>"
      ]
     },
     "execution_count": 12,
     "metadata": {},
     "output_type": "execute_result"
    },
    {
     "data": {
      "image/png": "[encoded data removed]",
      "text/plain": [
       "<Figure size 640x480 with 1 Axes>"
      ]
     },
     "metadata": {},
     "output_type": "display_data"
    }
   ],
   "source": [
    "# 휴일에 따른 데이터 (1: 토,일요일의 주말을 제외한 국경일 등 휴일, 0: 휴일이 아닌 날)\n",
    "sns.countplot(x='holiday', data=bike_df)"
   ]
  },
  {
   "cell_type": "code",
   "execution_count": 13,
   "id": "6af80ada",
   "metadata": {},
   "outputs": [
    {
     "data": {
      "text/plain": [
       "holiday\n",
       "0    10575\n",
       "1      311\n",
       "Name: count, dtype: int64"
      ]
     },
     "execution_count": 13,
     "metadata": {},
     "output_type": "execute_result"
    }
   ],
   "source": [
    "bike_df.groupby(['holiday']).count()['count']"
   ]
  },
  {
   "cell_type": "code",
   "execution_count": 14,
   "id": "7db0364e",
   "metadata": {},
   "outputs": [
    {
     "data": {
      "text/plain": [
       "<Axes: xlabel='workingday', ylabel='count'>"
      ]
     },
     "execution_count": 14,
     "metadata": {},
     "output_type": "execute_result"
    },
    {
     "data": {
      "image/png": "[encoded data removed]",
      "text/plain": [
       "<Figure size 640x480 with 1 Axes>"
      ]
     },
     "metadata": {},
     "output_type": "display_data"
    }
   ],
   "source": [
    "# 평일에 따른 데이터 (1: 토,일요일의 주말 및 휴일이 아닌 주중, 0: 주말 및 휴일)\n",
    "sns.countplot(x='workingday', data=bike_df)"
   ]
  },
  {
   "cell_type": "code",
   "execution_count": 15,
   "id": "32435e7c",
   "metadata": {},
   "outputs": [
    {
     "data": {
      "text/plain": [
       "workingday\n",
       "0    3474\n",
       "1    7412\n",
       "Name: count, dtype: int64"
      ]
     },
     "execution_count": 15,
     "metadata": {},
     "output_type": "execute_result"
    }
   ],
   "source": [
    "bike_df.groupby(['workingday']).count()['count']"
   ]
  },
  {
   "cell_type": "code",
   "execution_count": 16,
   "id": "25d148d1",
   "metadata": {},
   "outputs": [
    {
     "data": {
      "text/plain": [
       "<Axes: xlabel='weather', ylabel='count'>"
      ]
     },
     "execution_count": 16,
     "metadata": {},
     "output_type": "execute_result"
    },
    {
     "data": {
      "image/png": "[encoded data removed]",
      "text/plain": [
       "<Figure size 640x480 with 1 Axes>"
      ]
     },
     "metadata": {},
     "output_type": "display_data"
    }
   ],
   "source": [
    "# 날씨에 따른 데이터 \n",
    "# 1: 맑음, 약간 구름 낀 흐림, 2: 안개, 안개+흐림, 3: 가벼운 눈, 가벼운 비+천둥, 4: 심한 눈/비, 천둥/번개\n",
    "sns.countplot(x='weather', data=bike_df)"
   ]
  },
  {
   "cell_type": "code",
   "execution_count": 17,
   "id": "8ffd6ef0",
   "metadata": {},
   "outputs": [
    {
     "data": {
      "text/plain": [
       "weather\n",
       "1    7192\n",
       "2    2834\n",
       "3     859\n",
       "4       1\n",
       "Name: count, dtype: int64"
      ]
     },
     "execution_count": 17,
     "metadata": {},
     "output_type": "execute_result"
    }
   ],
   "source": [
    "bike_df.groupby(['weather']).count()['count']"
   ]
  },
  {
   "cell_type": "code",
   "execution_count": 18,
   "id": "600bfa0d",
   "metadata": {},
   "outputs": [
    {
     "data": {
      "text/plain": [
       "(array([ 0,  1,  2,  3,  4,  5,  6,  7,  8,  9, 10, 11, 12, 13, 14, 15, 16,\n",
       "        17, 18, 19, 20, 21, 22, 23, 24, 25, 26, 27, 28, 29, 30, 31, 32, 33,\n",
       "        34, 35, 36, 37, 38, 39, 40, 41, 42, 43, 44, 45, 46, 47, 48]),\n",
       " [Text(0, 0, '0.82'),\n",
       "  Text(1, 0, '1.64'),\n",
       "  Text(2, 0, '2.46'),\n",
       "  Text(3, 0, '3.28'),\n",
       "  Text(4, 0, '4.1'),\n",
       "  Text(5, 0, '4.92'),\n",
       "  Text(6, 0, '5.74'),\n",
       "  Text(7, 0, '6.56'),\n",
       "  Text(8, 0, '7.38'),\n",
       "  Text(9, 0, '8.2'),\n",
       "  Text(10, 0, '9.02'),\n",
       "  Text(11, 0, '9.84'),\n",
       "  Text(12, 0, '10.66'),\n",
       "  Text(13, 0, '11.48'),\n",
       "  Text(14, 0, '12.3'),\n",
       "  Text(15, 0, '13.12'),\n",
       "  Text(16, 0, '13.94'),\n",
       "  Text(17, 0, '14.76'),\n",
       "  Text(18, 0, '15.58'),\n",
       "  Text(19, 0, '16.4'),\n",
       "  Text(20, 0, '17.22'),\n",
       "  Text(21, 0, '18.04'),\n",
       "  Text(22, 0, '18.86'),\n",
       "  Text(23, 0, '19.68'),\n",
       "  Text(24, 0, '20.5'),\n",
       "  Text(25, 0, '21.32'),\n",
       "  Text(26, 0, '22.14'),\n",
       "  Text(27, 0, '22.96'),\n",
       "  Text(28, 0, '23.78'),\n",
       "  Text(29, 0, '24.6'),\n",
       "  Text(30, 0, '25.42'),\n",
       "  Text(31, 0, '26.24'),\n",
       "  Text(32, 0, '27.06'),\n",
       "  Text(33, 0, '27.88'),\n",
       "  Text(34, 0, '28.7'),\n",
       "  Text(35, 0, '29.52'),\n",
       "  Text(36, 0, '30.34'),\n",
       "  Text(37, 0, '31.16'),\n",
       "  Text(38, 0, '31.98'),\n",
       "  Text(39, 0, '32.8'),\n",
       "  Text(40, 0, '33.62'),\n",
       "  Text(41, 0, '34.44'),\n",
       "  Text(42, 0, '35.26'),\n",
       "  Text(43, 0, '36.08'),\n",
       "  Text(44, 0, '36.9'),\n",
       "  Text(45, 0, '37.72'),\n",
       "  Text(46, 0, '38.54'),\n",
       "  Text(47, 0, '39.36'),\n",
       "  Text(48, 0, '41.0')])"
      ]
     },
     "execution_count": 18,
     "metadata": {},
     "output_type": "execute_result"
    },
    {
     "data": {
      "image/png": "[encoded data removed]",
      "text/plain": [
       "<Figure size 640x480 with 1 Axes>"
      ]
     },
     "metadata": {},
     "output_type": "display_data"
    }
   ],
   "source": [
    "# 온도(섭씨에 따른 데이터)\n",
    "sns.countplot(x='temp', data=bike_df)\n",
    "# x축 눈금 라벨 회전하기 \n",
    "plt.xticks(rotation=90)"
   ]
  },
  {
   "cell_type": "code",
   "execution_count": 19,
   "id": "62e26991",
   "metadata": {},
   "outputs": [
    {
     "data": {
      "text/plain": [
       "temp\n",
       "0.82       7\n",
       "1.64       2\n",
       "2.46       5\n",
       "3.28      11\n",
       "4.10      44\n",
       "4.92      60\n",
       "5.74     107\n",
       "6.56     146\n",
       "7.38     106\n",
       "8.20     229\n",
       "9.02     248\n",
       "9.84     294\n",
       "10.66    332\n",
       "11.48    181\n",
       "12.30    385\n",
       "13.12    356\n",
       "13.94    413\n",
       "14.76    467\n",
       "15.58    255\n",
       "16.40    400\n",
       "17.22    356\n",
       "18.04    328\n",
       "18.86    406\n",
       "19.68    170\n",
       "20.50    327\n",
       "21.32    362\n",
       "22.14    403\n",
       "22.96    395\n",
       "23.78    203\n",
       "24.60    390\n",
       "25.42    403\n",
       "26.24    453\n",
       "27.06    394\n",
       "27.88    224\n",
       "28.70    427\n",
       "29.52    353\n",
       "30.34    299\n",
       "31.16    242\n",
       "31.98     98\n",
       "32.80    202\n",
       "33.62    130\n",
       "34.44     80\n",
       "35.26     76\n",
       "36.08     23\n",
       "36.90     46\n",
       "37.72     34\n",
       "38.54      7\n",
       "39.36      6\n",
       "41.00      1\n",
       "Name: count, dtype: int64"
      ]
     },
     "execution_count": 19,
     "metadata": {},
     "output_type": "execute_result"
    }
   ],
   "source": [
    "bike_df.groupby(['temp']).count()['count']"
   ]
  },
  {
   "cell_type": "code",
   "execution_count": 20,
   "id": "46bf0562",
   "metadata": {},
   "outputs": [
    {
     "data": {
      "text/plain": [
       "(array([ 0,  1,  2,  3,  4,  5,  6,  7,  8,  9, 10, 11, 12, 13, 14, 15, 16,\n",
       "        17, 18, 19, 20, 21, 22, 23, 24, 25, 26, 27, 28, 29, 30, 31, 32, 33,\n",
       "        34, 35, 36, 37, 38, 39, 40, 41, 42, 43, 44, 45, 46, 47, 48, 49, 50,\n",
       "        51, 52, 53, 54, 55, 56, 57, 58, 59]),\n",
       " [Text(0, 0, '0.76'),\n",
       "  Text(1, 0, '1.515'),\n",
       "  Text(2, 0, '2.275'),\n",
       "  Text(3, 0, '3.03'),\n",
       "  Text(4, 0, '3.79'),\n",
       "  Text(5, 0, '4.545'),\n",
       "  Text(6, 0, '5.305'),\n",
       "  Text(7, 0, '6.06'),\n",
       "  Text(8, 0, '6.82'),\n",
       "  Text(9, 0, '7.575'),\n",
       "  Text(10, 0, '8.335'),\n",
       "  Text(11, 0, '9.09'),\n",
       "  Text(12, 0, '9.85'),\n",
       "  Text(13, 0, '10.605'),\n",
       "  Text(14, 0, '11.365'),\n",
       "  Text(15, 0, '12.12'),\n",
       "  Text(16, 0, '12.88'),\n",
       "  Text(17, 0, '13.635'),\n",
       "  Text(18, 0, '14.395'),\n",
       "  Text(19, 0, '15.15'),\n",
       "  Text(20, 0, '15.91'),\n",
       "  Text(21, 0, '16.665'),\n",
       "  Text(22, 0, '17.425'),\n",
       "  Text(23, 0, '18.18'),\n",
       "  Text(24, 0, '18.94'),\n",
       "  Text(25, 0, '19.695'),\n",
       "  Text(26, 0, '20.455'),\n",
       "  Text(27, 0, '21.21'),\n",
       "  Text(28, 0, '21.97'),\n",
       "  Text(29, 0, '22.725'),\n",
       "  Text(30, 0, '23.485'),\n",
       "  Text(31, 0, '24.24'),\n",
       "  Text(32, 0, '25.0'),\n",
       "  Text(33, 0, '25.76'),\n",
       "  Text(34, 0, '26.515'),\n",
       "  Text(35, 0, '27.275'),\n",
       "  Text(36, 0, '28.03'),\n",
       "  Text(37, 0, '28.79'),\n",
       "  Text(38, 0, '29.545'),\n",
       "  Text(39, 0, '30.305'),\n",
       "  Text(40, 0, '31.06'),\n",
       "  Text(41, 0, '31.82'),\n",
       "  Text(42, 0, '32.575'),\n",
       "  Text(43, 0, '33.335'),\n",
       "  Text(44, 0, '34.09'),\n",
       "  Text(45, 0, '34.85'),\n",
       "  Text(46, 0, '35.605'),\n",
       "  Text(47, 0, '36.365'),\n",
       "  Text(48, 0, '37.12'),\n",
       "  Text(49, 0, '37.88'),\n",
       "  Text(50, 0, '38.635'),\n",
       "  Text(51, 0, '39.395'),\n",
       "  Text(52, 0, '40.15'),\n",
       "  Text(53, 0, '40.91'),\n",
       "  Text(54, 0, '41.665'),\n",
       "  Text(55, 0, '42.425'),\n",
       "  Text(56, 0, '43.18'),\n",
       "  Text(57, 0, '43.94'),\n",
       "  Text(58, 0, '44.695'),\n",
       "  Text(59, 0, '45.455')])"
      ]
     },
     "execution_count": 20,
     "metadata": {},
     "output_type": "execute_result"
    },
    {
     "data": {
      "image/png": "[encoded data removed]",
      "text/plain": [
       "<Figure size 640x480 with 1 Axes>"
      ]
     },
     "metadata": {},
     "output_type": "display_data"
    }
   ],
   "source": [
    "# 체감온도(섭씨)에 따른 데이터\n",
    "sns.countplot(x='atemp', data=bike_df)\n",
    "# x축 눈금 라벨 회전하기 \n",
    "plt.xticks(rotation=90)"
   ]
  },
  {
   "cell_type": "code",
   "execution_count": 21,
   "id": "31f5aa8e",
   "metadata": {},
   "outputs": [
    {
     "data": {
      "text/plain": [
       "atemp\n",
       "0.760       2\n",
       "1.515       1\n",
       "2.275       7\n",
       "3.030       7\n",
       "3.790      16\n",
       "4.545      11\n",
       "5.305      25\n",
       "6.060      73\n",
       "6.820      63\n",
       "7.575      75\n",
       "8.335      63\n",
       "9.090     107\n",
       "9.850     127\n",
       "10.605    166\n",
       "11.365    271\n",
       "12.120    195\n",
       "12.880    247\n",
       "13.635    237\n",
       "14.395    269\n",
       "15.150    338\n",
       "15.910    254\n",
       "16.665    381\n",
       "17.425    314\n",
       "18.180    123\n",
       "18.940     45\n",
       "19.695    255\n",
       "20.455    400\n",
       "21.210    356\n",
       "21.970    328\n",
       "22.725    406\n",
       "23.485    170\n",
       "24.240    327\n",
       "25.000    365\n",
       "25.760    423\n",
       "26.515    395\n",
       "27.275    282\n",
       "28.030     80\n",
       "28.790    175\n",
       "29.545    257\n",
       "30.305    350\n",
       "31.060    671\n",
       "31.820    299\n",
       "32.575    272\n",
       "33.335    364\n",
       "34.090    224\n",
       "34.850    283\n",
       "35.605    159\n",
       "36.365    123\n",
       "37.120    118\n",
       "37.880     97\n",
       "38.635     74\n",
       "39.395     67\n",
       "40.150     45\n",
       "40.910     39\n",
       "41.665     23\n",
       "42.425     24\n",
       "43.180      7\n",
       "43.940      7\n",
       "44.695      3\n",
       "45.455      1\n",
       "Name: count, dtype: int64"
      ]
     },
     "execution_count": 21,
     "metadata": {},
     "output_type": "execute_result"
    }
   ],
   "source": [
    "bike_df.groupby(['atemp']).count()['count']"
   ]
  },
  {
   "cell_type": "code",
   "execution_count": 22,
   "id": "f9af1c87",
   "metadata": {},
   "outputs": [
    {
     "data": {
      "text/plain": [
       "(array([ 0,  1,  2,  3,  4,  5,  6,  7,  8,  9, 10, 11, 12, 13, 14, 15, 16,\n",
       "        17, 18, 19, 20, 21, 22, 23, 24, 25, 26, 27, 28, 29, 30, 31, 32, 33,\n",
       "        34, 35, 36, 37, 38, 39, 40, 41, 42, 43, 44, 45, 46, 47, 48, 49, 50,\n",
       "        51, 52, 53, 54, 55, 56, 57, 58, 59, 60, 61, 62, 63, 64, 65, 66, 67,\n",
       "        68, 69, 70, 71, 72, 73, 74, 75, 76, 77, 78, 79, 80, 81, 82, 83, 84,\n",
       "        85, 86, 87, 88]),\n",
       " [Text(0, 0, '0'),\n",
       "  Text(1, 0, '8'),\n",
       "  Text(2, 0, '10'),\n",
       "  Text(3, 0, '12'),\n",
       "  Text(4, 0, '13'),\n",
       "  Text(5, 0, '14'),\n",
       "  Text(6, 0, '15'),\n",
       "  Text(7, 0, '16'),\n",
       "  Text(8, 0, '17'),\n",
       "  Text(9, 0, '18'),\n",
       "  Text(10, 0, '19'),\n",
       "  Text(11, 0, '20'),\n",
       "  Text(12, 0, '21'),\n",
       "  Text(13, 0, '22'),\n",
       "  Text(14, 0, '23'),\n",
       "  Text(15, 0, '24'),\n",
       "  Text(16, 0, '25'),\n",
       "  Text(17, 0, '26'),\n",
       "  Text(18, 0, '27'),\n",
       "  Text(19, 0, '28'),\n",
       "  Text(20, 0, '29'),\n",
       "  Text(21, 0, '30'),\n",
       "  Text(22, 0, '31'),\n",
       "  Text(23, 0, '32'),\n",
       "  Text(24, 0, '33'),\n",
       "  Text(25, 0, '34'),\n",
       "  Text(26, 0, '35'),\n",
       "  Text(27, 0, '36'),\n",
       "  Text(28, 0, '37'),\n",
       "  Text(29, 0, '38'),\n",
       "  Text(30, 0, '39'),\n",
       "  Text(31, 0, '40'),\n",
       "  Text(32, 0, '41'),\n",
       "  Text(33, 0, '42'),\n",
       "  Text(34, 0, '43'),\n",
       "  Text(35, 0, '44'),\n",
       "  Text(36, 0, '45'),\n",
       "  Text(37, 0, '46'),\n",
       "  Text(38, 0, '47'),\n",
       "  Text(39, 0, '48'),\n",
       "  Text(40, 0, '49'),\n",
       "  Text(41, 0, '50'),\n",
       "  Text(42, 0, '51'),\n",
       "  Text(43, 0, '52'),\n",
       "  Text(44, 0, '53'),\n",
       "  Text(45, 0, '54'),\n",
       "  Text(46, 0, '55'),\n",
       "  Text(47, 0, '56'),\n",
       "  Text(48, 0, '57'),\n",
       "  Text(49, 0, '58'),\n",
       "  Text(50, 0, '59'),\n",
       "  Text(51, 0, '60'),\n",
       "  Text(52, 0, '61'),\n",
       "  Text(53, 0, '62'),\n",
       "  Text(54, 0, '63'),\n",
       "  Text(55, 0, '64'),\n",
       "  Text(56, 0, '65'),\n",
       "  Text(57, 0, '66'),\n",
       "  Text(58, 0, '67'),\n",
       "  Text(59, 0, '68'),\n",
       "  Text(60, 0, '69'),\n",
       "  Text(61, 0, '70'),\n",
       "  Text(62, 0, '71'),\n",
       "  Text(63, 0, '72'),\n",
       "  Text(64, 0, '73'),\n",
       "  Text(65, 0, '74'),\n",
       "  Text(66, 0, '75'),\n",
       "  Text(67, 0, '76'),\n",
       "  Text(68, 0, '77'),\n",
       "  Text(69, 0, '78'),\n",
       "  Text(70, 0, '79'),\n",
       "  Text(71, 0, '80'),\n",
       "  Text(72, 0, '81'),\n",
       "  Text(73, 0, '82'),\n",
       "  Text(74, 0, '83'),\n",
       "  Text(75, 0, '84'),\n",
       "  Text(76, 0, '85'),\n",
       "  Text(77, 0, '86'),\n",
       "  Text(78, 0, '87'),\n",
       "  Text(79, 0, '88'),\n",
       "  Text(80, 0, '89'),\n",
       "  Text(81, 0, '90'),\n",
       "  Text(82, 0, '91'),\n",
       "  Text(83, 0, '92'),\n",
       "  Text(84, 0, '93'),\n",
       "  Text(85, 0, '94'),\n",
       "  Text(86, 0, '96'),\n",
       "  Text(87, 0, '97'),\n",
       "  Text(88, 0, '100')])"
      ]
     },
     "execution_count": 22,
     "metadata": {},
     "output_type": "execute_result"
    },
    {
     "data": {
      "image/png": "[encoded data removed]",
      "text/plain": [
       "<Figure size 640x480 with 1 Axes>"
      ]
     },
     "metadata": {},
     "output_type": "display_data"
    }
   ],
   "source": [
    "# 상대습도에 따른 데이터 \n",
    "sns.countplot(x='humidity', data=bike_df)\n",
    "# x축 눈금 라벨 회전하기 \n",
    "plt.xticks(rotation=90)"
   ]
  },
  {
   "cell_type": "code",
   "execution_count": 23,
   "id": "39fbfc2a",
   "metadata": {},
   "outputs": [
    {
     "data": {
      "text/plain": [
       "humidity\n",
       "0       22\n",
       "8        1\n",
       "10       1\n",
       "12       1\n",
       "13       1\n",
       "      ... \n",
       "93     205\n",
       "94     324\n",
       "96       1\n",
       "97       1\n",
       "100    148\n",
       "Name: count, Length: 89, dtype: int64"
      ]
     },
     "execution_count": 23,
     "metadata": {},
     "output_type": "execute_result"
    }
   ],
   "source": [
    "bike_df.groupby(['humidity']).count()['count']"
   ]
  },
  {
   "cell_type": "code",
   "execution_count": 24,
   "id": "1a5eb406",
   "metadata": {},
   "outputs": [
    {
     "data": {
      "text/plain": [
       "(array([ 0,  1,  2,  3,  4,  5,  6,  7,  8,  9, 10, 11, 12, 13, 14, 15, 16,\n",
       "        17, 18, 19, 20, 21, 22, 23, 24, 25, 26, 27]),\n",
       " [Text(0, 0, '0.0'),\n",
       "  Text(1, 0, '6.0032'),\n",
       "  Text(2, 0, '7.0015'),\n",
       "  Text(3, 0, '8.9981'),\n",
       "  Text(4, 0, '11.0014'),\n",
       "  Text(5, 0, '12.998'),\n",
       "  Text(6, 0, '15.0013'),\n",
       "  Text(7, 0, '16.9979'),\n",
       "  Text(8, 0, '19.0012'),\n",
       "  Text(9, 0, '19.9995'),\n",
       "  Text(10, 0, '22.0028'),\n",
       "  Text(11, 0, '23.9994'),\n",
       "  Text(12, 0, '26.0027'),\n",
       "  Text(13, 0, '27.9993'),\n",
       "  Text(14, 0, '30.0026'),\n",
       "  Text(15, 0, '31.0009'),\n",
       "  Text(16, 0, '32.9975'),\n",
       "  Text(17, 0, '35.0008'),\n",
       "  Text(18, 0, '36.9974'),\n",
       "  Text(19, 0, '39.0007'),\n",
       "  Text(20, 0, '40.9973'),\n",
       "  Text(21, 0, '43.0006'),\n",
       "  Text(22, 0, '43.9989'),\n",
       "  Text(23, 0, '46.0022'),\n",
       "  Text(24, 0, '47.9988'),\n",
       "  Text(25, 0, '50.0021'),\n",
       "  Text(26, 0, '51.9987'),\n",
       "  Text(27, 0, '56.9969')])"
      ]
     },
     "execution_count": 24,
     "metadata": {},
     "output_type": "execute_result"
    },
    {
     "data": {
      "image/png": "[encoded data removed]",
      "text/plain": [
       "<Figure size 640x480 with 1 Axes>"
      ]
     },
     "metadata": {},
     "output_type": "display_data"
    }
   ],
   "source": [
    "# 풍속에 따른 데이터\n",
    "sns.countplot(x='windspeed', data=bike_df)\n",
    "# x축 눈금 라벨 회전하기 \n",
    "plt.xticks(rotation=90)"
   ]
  },
  {
   "cell_type": "code",
   "execution_count": 25,
   "id": "152f79e9",
   "metadata": {},
   "outputs": [
    {
     "data": {
      "text/plain": [
       "windspeed\n",
       "0.0000     1313\n",
       "6.0032      872\n",
       "7.0015     1034\n",
       "8.9981     1120\n",
       "11.0014    1057\n",
       "12.9980    1042\n",
       "15.0013     961\n",
       "16.9979     824\n",
       "19.0012     676\n",
       "19.9995     492\n",
       "22.0028     372\n",
       "23.9994     274\n",
       "26.0027     235\n",
       "27.9993     187\n",
       "30.0026     111\n",
       "31.0009      89\n",
       "32.9975      80\n",
       "35.0008      58\n",
       "36.9974      22\n",
       "39.0007      27\n",
       "40.9973      11\n",
       "43.0006      12\n",
       "43.9989       8\n",
       "46.0022       3\n",
       "47.9988       2\n",
       "50.0021       1\n",
       "51.9987       1\n",
       "56.9969       2\n",
       "Name: count, dtype: int64"
      ]
     },
     "execution_count": 25,
     "metadata": {},
     "output_type": "execute_result"
    }
   ],
   "source": [
    "bike_df.groupby(['windspeed']).count()['count']"
   ]
  },
  {
   "cell_type": "code",
   "execution_count": 26,
   "id": "f02659b3",
   "metadata": {},
   "outputs": [
    {
     "data": {
      "text/plain": [
       "<Axes: xlabel='casual', ylabel='Count'>"
      ]
     },
     "execution_count": 26,
     "metadata": {},
     "output_type": "execute_result"
    },
    {
     "data": {
      "image/png": "[encoded data removed]",
      "text/plain": [
       "<Figure size 640x480 with 1 Axes>"
      ]
     },
     "metadata": {},
     "output_type": "display_data"
    }
   ],
   "source": [
    "# 사전에 등록되지 않은 사용자가 대여한 횟수 \n",
    "sns.histplot(x='casual', data=bike_df, kde='True')"
   ]
  },
  {
   "cell_type": "code",
   "execution_count": 27,
   "id": "76ea5d4d",
   "metadata": {},
   "outputs": [
    {
     "data": {
      "text/plain": [
       "casual\n",
       "0      986\n",
       "1      667\n",
       "2      487\n",
       "3      438\n",
       "4      354\n",
       "      ... \n",
       "356      1\n",
       "357      1\n",
       "361      1\n",
       "362      1\n",
       "367      1\n",
       "Name: count, Length: 309, dtype: int64"
      ]
     },
     "execution_count": 27,
     "metadata": {},
     "output_type": "execute_result"
    }
   ],
   "source": [
    "bike_df.groupby(['casual']).count()['count']"
   ]
  },
  {
   "cell_type": "code",
   "execution_count": 28,
   "id": "7deb2dcb",
   "metadata": {
    "scrolled": true
   },
   "outputs": [
    {
     "data": {
      "text/plain": [
       "<Axes: xlabel='registered', ylabel='Count'>"
      ]
     },
     "execution_count": 28,
     "metadata": {},
     "output_type": "execute_result"
    },
    {
     "data": {
      "image/png": "[encoded data removed]",
      "text/plain": [
       "<Figure size 640x480 with 1 Axes>"
      ]
     },
     "metadata": {},
     "output_type": "display_data"
    }
   ],
   "source": [
    "# 사전에 등록된 사용자가 대여한 횟수 \n",
    "sns.histplot(x='registered', data=bike_df, kde='True')"
   ]
  },
  {
   "cell_type": "code",
   "execution_count": 29,
   "id": "1b6d2fee",
   "metadata": {},
   "outputs": [
    {
     "data": {
      "text/plain": [
       "registered\n",
       "0       15\n",
       "1      135\n",
       "2      150\n",
       "3      195\n",
       "4      190\n",
       "      ... \n",
       "812      2\n",
       "833      1\n",
       "839      1\n",
       "857      2\n",
       "886      1\n",
       "Name: count, Length: 731, dtype: int64"
      ]
     },
     "execution_count": 29,
     "metadata": {},
     "output_type": "execute_result"
    }
   ],
   "source": [
    "bike_df.groupby(['registered']).count()['count']"
   ]
  },
  {
   "cell_type": "code",
   "execution_count": 30,
   "id": "15c81474",
   "metadata": {},
   "outputs": [
    {
     "data": {
      "text/html": [
       "<div>\n",
       "<style scoped>\n",
       "    .dataframe tbody tr th:only-of-type {\n",
       "        vertical-align: middle;\n",
       "    }\n",
       "\n",
       "    .dataframe tbody tr th {\n",
       "        vertical-align: top;\n",
       "    }\n",
       "\n",
       "    .dataframe thead th {\n",
       "        text-align: right;\n",
       "    }\n",
       "</style>\n",
       "<table border=\"1\" class=\"dataframe\">\n",
       "  <thead>\n",
       "    <tr style=\"text-align: right;\">\n",
       "      <th></th>\n",
       "      <th>datetime</th>\n",
       "      <th>season</th>\n",
       "      <th>holiday</th>\n",
       "      <th>workingday</th>\n",
       "      <th>weather</th>\n",
       "      <th>temp</th>\n",
       "      <th>atemp</th>\n",
       "      <th>humidity</th>\n",
       "      <th>windspeed</th>\n",
       "      <th>casual</th>\n",
       "      <th>registered</th>\n",
       "      <th>count</th>\n",
       "      <th>year</th>\n",
       "      <th>month</th>\n",
       "      <th>day</th>\n",
       "      <th>hour</th>\n",
       "    </tr>\n",
       "  </thead>\n",
       "  <tbody>\n",
       "    <tr>\n",
       "      <th>0</th>\n",
       "      <td>2011-01-01 00:00:00</td>\n",
       "      <td>1</td>\n",
       "      <td>0</td>\n",
       "      <td>0</td>\n",
       "      <td>1</td>\n",
       "      <td>9.84</td>\n",
       "      <td>14.395</td>\n",
       "      <td>81</td>\n",
       "      <td>0.0000</td>\n",
       "      <td>3</td>\n",
       "      <td>13</td>\n",
       "      <td>16</td>\n",
       "      <td>2011</td>\n",
       "      <td>1</td>\n",
       "      <td>1</td>\n",
       "      <td>0</td>\n",
       "    </tr>\n",
       "    <tr>\n",
       "      <th>1</th>\n",
       "      <td>2011-01-01 01:00:00</td>\n",
       "      <td>1</td>\n",
       "      <td>0</td>\n",
       "      <td>0</td>\n",
       "      <td>1</td>\n",
       "      <td>9.02</td>\n",
       "      <td>13.635</td>\n",
       "      <td>80</td>\n",
       "      <td>0.0000</td>\n",
       "      <td>8</td>\n",
       "      <td>32</td>\n",
       "      <td>40</td>\n",
       "      <td>2011</td>\n",
       "      <td>1</td>\n",
       "      <td>1</td>\n",
       "      <td>1</td>\n",
       "    </tr>\n",
       "    <tr>\n",
       "      <th>2</th>\n",
       "      <td>2011-01-01 02:00:00</td>\n",
       "      <td>1</td>\n",
       "      <td>0</td>\n",
       "      <td>0</td>\n",
       "      <td>1</td>\n",
       "      <td>9.02</td>\n",
       "      <td>13.635</td>\n",
       "      <td>80</td>\n",
       "      <td>0.0000</td>\n",
       "      <td>5</td>\n",
       "      <td>27</td>\n",
       "      <td>32</td>\n",
       "      <td>2011</td>\n",
       "      <td>1</td>\n",
       "      <td>1</td>\n",
       "      <td>2</td>\n",
       "    </tr>\n",
       "    <tr>\n",
       "      <th>3</th>\n",
       "      <td>2011-01-01 03:00:00</td>\n",
       "      <td>1</td>\n",
       "      <td>0</td>\n",
       "      <td>0</td>\n",
       "      <td>1</td>\n",
       "      <td>9.84</td>\n",
       "      <td>14.395</td>\n",
       "      <td>75</td>\n",
       "      <td>0.0000</td>\n",
       "      <td>3</td>\n",
       "      <td>10</td>\n",
       "      <td>13</td>\n",
       "      <td>2011</td>\n",
       "      <td>1</td>\n",
       "      <td>1</td>\n",
       "      <td>3</td>\n",
       "    </tr>\n",
       "    <tr>\n",
       "      <th>4</th>\n",
       "      <td>2011-01-01 04:00:00</td>\n",
       "      <td>1</td>\n",
       "      <td>0</td>\n",
       "      <td>0</td>\n",
       "      <td>1</td>\n",
       "      <td>9.84</td>\n",
       "      <td>14.395</td>\n",
       "      <td>75</td>\n",
       "      <td>0.0000</td>\n",
       "      <td>0</td>\n",
       "      <td>1</td>\n",
       "      <td>1</td>\n",
       "      <td>2011</td>\n",
       "      <td>1</td>\n",
       "      <td>1</td>\n",
       "      <td>4</td>\n",
       "    </tr>\n",
       "    <tr>\n",
       "      <th>...</th>\n",
       "      <td>...</td>\n",
       "      <td>...</td>\n",
       "      <td>...</td>\n",
       "      <td>...</td>\n",
       "      <td>...</td>\n",
       "      <td>...</td>\n",
       "      <td>...</td>\n",
       "      <td>...</td>\n",
       "      <td>...</td>\n",
       "      <td>...</td>\n",
       "      <td>...</td>\n",
       "      <td>...</td>\n",
       "      <td>...</td>\n",
       "      <td>...</td>\n",
       "      <td>...</td>\n",
       "      <td>...</td>\n",
       "    </tr>\n",
       "    <tr>\n",
       "      <th>10881</th>\n",
       "      <td>2012-12-19 19:00:00</td>\n",
       "      <td>4</td>\n",
       "      <td>0</td>\n",
       "      <td>1</td>\n",
       "      <td>1</td>\n",
       "      <td>15.58</td>\n",
       "      <td>19.695</td>\n",
       "      <td>50</td>\n",
       "      <td>26.0027</td>\n",
       "      <td>7</td>\n",
       "      <td>329</td>\n",
       "      <td>336</td>\n",
       "      <td>2012</td>\n",
       "      <td>12</td>\n",
       "      <td>19</td>\n",
       "      <td>19</td>\n",
       "    </tr>\n",
       "    <tr>\n",
       "      <th>10882</th>\n",
       "      <td>2012-12-19 20:00:00</td>\n",
       "      <td>4</td>\n",
       "      <td>0</td>\n",
       "      <td>1</td>\n",
       "      <td>1</td>\n",
       "      <td>14.76</td>\n",
       "      <td>17.425</td>\n",
       "      <td>57</td>\n",
       "      <td>15.0013</td>\n",
       "      <td>10</td>\n",
       "      <td>231</td>\n",
       "      <td>241</td>\n",
       "      <td>2012</td>\n",
       "      <td>12</td>\n",
       "      <td>19</td>\n",
       "      <td>20</td>\n",
       "    </tr>\n",
       "    <tr>\n",
       "      <th>10883</th>\n",
       "      <td>2012-12-19 21:00:00</td>\n",
       "      <td>4</td>\n",
       "      <td>0</td>\n",
       "      <td>1</td>\n",
       "      <td>1</td>\n",
       "      <td>13.94</td>\n",
       "      <td>15.910</td>\n",
       "      <td>61</td>\n",
       "      <td>15.0013</td>\n",
       "      <td>4</td>\n",
       "      <td>164</td>\n",
       "      <td>168</td>\n",
       "      <td>2012</td>\n",
       "      <td>12</td>\n",
       "      <td>19</td>\n",
       "      <td>21</td>\n",
       "    </tr>\n",
       "    <tr>\n",
       "      <th>10884</th>\n",
       "      <td>2012-12-19 22:00:00</td>\n",
       "      <td>4</td>\n",
       "      <td>0</td>\n",
       "      <td>1</td>\n",
       "      <td>1</td>\n",
       "      <td>13.94</td>\n",
       "      <td>17.425</td>\n",
       "      <td>61</td>\n",
       "      <td>6.0032</td>\n",
       "      <td>12</td>\n",
       "      <td>117</td>\n",
       "      <td>129</td>\n",
       "      <td>2012</td>\n",
       "      <td>12</td>\n",
       "      <td>19</td>\n",
       "      <td>22</td>\n",
       "    </tr>\n",
       "    <tr>\n",
       "      <th>10885</th>\n",
       "      <td>2012-12-19 23:00:00</td>\n",
       "      <td>4</td>\n",
       "      <td>0</td>\n",
       "      <td>1</td>\n",
       "      <td>1</td>\n",
       "      <td>13.12</td>\n",
       "      <td>16.665</td>\n",
       "      <td>66</td>\n",
       "      <td>8.9981</td>\n",
       "      <td>4</td>\n",
       "      <td>84</td>\n",
       "      <td>88</td>\n",
       "      <td>2012</td>\n",
       "      <td>12</td>\n",
       "      <td>19</td>\n",
       "      <td>23</td>\n",
       "    </tr>\n",
       "  </tbody>\n",
       "</table>\n",
       "<p>10886 rows × 16 columns</p>\n",
       "</div>"
      ],
      "text/plain": [
       "                 datetime  season  holiday  workingday  weather   temp  \\\n",
       "0     2011-01-01 00:00:00       1        0           0        1   9.84   \n",
       "1     2011-01-01 01:00:00       1        0           0        1   9.02   \n",
       "2     2011-01-01 02:00:00       1        0           0        1   9.02   \n",
       "3     2011-01-01 03:00:00       1        0           0        1   9.84   \n",
       "4     2011-01-01 04:00:00       1        0           0        1   9.84   \n",
       "...                   ...     ...      ...         ...      ...    ...   \n",
       "10881 2012-12-19 19:00:00       4        0           1        1  15.58   \n",
       "10882 2012-12-19 20:00:00       4        0           1        1  14.76   \n",
       "10883 2012-12-19 21:00:00       4        0           1        1  13.94   \n",
       "10884 2012-12-19 22:00:00       4        0           1        1  13.94   \n",
       "10885 2012-12-19 23:00:00       4        0           1        1  13.12   \n",
       "\n",
       "        atemp  humidity  windspeed  casual  registered  count  year  month  \\\n",
       "0      14.395        81     0.0000       3          13     16  2011      1   \n",
       "1      13.635        80     0.0000       8          32     40  2011      1   \n",
       "2      13.635        80     0.0000       5          27     32  2011      1   \n",
       "3      14.395        75     0.0000       3          10     13  2011      1   \n",
       "4      14.395        75     0.0000       0           1      1  2011      1   \n",
       "...       ...       ...        ...     ...         ...    ...   ...    ...   \n",
       "10881  19.695        50    26.0027       7         329    336  2012     12   \n",
       "10882  17.425        57    15.0013      10         231    241  2012     12   \n",
       "10883  15.910        61    15.0013       4         164    168  2012     12   \n",
       "10884  17.425        61     6.0032      12         117    129  2012     12   \n",
       "10885  16.665        66     8.9981       4          84     88  2012     12   \n",
       "\n",
       "       day  hour  \n",
       "0        1     0  \n",
       "1        1     1  \n",
       "2        1     2  \n",
       "3        1     3  \n",
       "4        1     4  \n",
       "...    ...   ...  \n",
       "10881   19    19  \n",
       "10882   19    20  \n",
       "10883   19    21  \n",
       "10884   19    22  \n",
       "10885   19    23  \n",
       "\n",
       "[10886 rows x 16 columns]"
      ]
     },
     "execution_count": 30,
     "metadata": {},
     "output_type": "execute_result"
    }
   ],
   "source": [
    "# 문자열을 datetime 타입으로 변경.\n",
    "bike_df['datetime'] = bike_df.datetime.apply(pd.to_datetime)\n",
    "\n",
    "# datetime 타입에서 년, 월, 일, 시간 추출\n",
    "bike_df['year'] = bike_df.datetime.apply(lambda x : x.year)\n",
    "bike_df['month'] = bike_df.datetime.apply(lambda x : x.month)\n",
    "bike_df['day'] = bike_df.datetime.apply(lambda x : x.day)\n",
    "bike_df['hour'] = bike_df.datetime.apply(lambda x : x.hour)\n",
    "bike_df"
   ]
  },
  {
   "cell_type": "markdown",
   "id": "5b80fc12",
   "metadata": {},
   "source": [
    "## 데이터 전처리"
   ]
  },
  {
   "cell_type": "code",
   "execution_count": 31,
   "id": "58cb5509",
   "metadata": {},
   "outputs": [],
   "source": [
    "drop_columns = ['datetime', 'casual', 'registered']\n",
    "bike_df.drop(drop_columns, axis=1, inplace=True)"
   ]
  },
  {
   "cell_type": "code",
   "execution_count": 32,
   "id": "3c9625e1",
   "metadata": {},
   "outputs": [
    {
     "name": "stdout",
     "output_type": "stream",
     "text": [
      "<class 'pandas.core.frame.DataFrame'>\n",
      "RangeIndex: 10886 entries, 0 to 10885\n",
      "Data columns (total 13 columns):\n",
      " #   Column      Non-Null Count  Dtype  \n",
      "---  ------      --------------  -----  \n",
      " 0   season      10886 non-null  int64  \n",
      " 1   holiday     10886 non-null  int64  \n",
      " 2   workingday  10886 non-null  int64  \n",
      " 3   weather     10886 non-null  int64  \n",
      " 4   temp        10886 non-null  float64\n",
      " 5   atemp       10886 non-null  float64\n",
      " 6   humidity    10886 non-null  int64  \n",
      " 7   windspeed   10886 non-null  float64\n",
      " 8   count       10886 non-null  int64  \n",
      " 9   year        10886 non-null  int64  \n",
      " 10  month       10886 non-null  int64  \n",
      " 11  day         10886 non-null  int64  \n",
      " 12  hour        10886 non-null  int64  \n",
      "dtypes: float64(3), int64(10)\n",
      "memory usage: 1.1 MB\n"
     ]
    }
   ],
   "source": [
    "bike_df.info()"
   ]
  },
  {
   "cell_type": "code",
   "execution_count": 33,
   "id": "5daa2d9e",
   "metadata": {},
   "outputs": [
    {
     "data": {
      "image/png": "[encoded data removed]",
      "text/plain": [
       "<Figure size 1600x800 with 8 Axes>"
      ]
     },
     "metadata": {},
     "output_type": "display_data"
    }
   ],
   "source": [
    "fig, axs = plt.subplots(figsize=(16, 8), ncols=4, nrows=2)\n",
    "cat_features = ['year', 'month', 'season', 'weather', 'day', 'hour', 'holiday', 'workingday']\n",
    "# cat_features에 있는 모든 칼럼별로 개별 칼럼값에 따른 count의 합 barplot으로 시각화\n",
    "for i, feature in enumerate(cat_features):\n",
    "    row = int(i/4)\n",
    "    col = i%4\n",
    "    # 시본의 barplot을 이용해 칼럼값에 따른 count의 합을 표현\n",
    "    sns.barplot(x=feature, y='count', data=bike_df, ax=axs[row][col])"
   ]
  },
  {
   "cell_type": "markdown",
   "id": "d844127e",
   "metadata": {},
   "source": [
    "## 선형회귀, 릿지, 라소 회귀 트리모델 3개 이상 사용 후 결과 비교 (6개)"
   ]
  },
  {
   "cell_type": "markdown",
   "id": "7c523176",
   "metadata": {},
   "source": [
    "#### 선형회귀 "
   ]
  },
  {
   "cell_type": "code",
   "execution_count": 51,
   "id": "1c4cc3f9",
   "metadata": {},
   "outputs": [
    {
     "name": "stdout",
     "output_type": "stream",
     "text": [
      "MSE:  18756.458, RMSE:  136.954\n",
      "Variance score:  0.417\n"
     ]
    }
   ],
   "source": [
    "# 선형회귀\n",
    "from sklearn.model_selection import train_test_split\n",
    "from sklearn.linear_model import LinearRegression\n",
    "from sklearn.metrics import mean_squared_error, r2_score\n",
    "\n",
    "y_target = bike_df['count']\n",
    "X_data = bike_df.drop(['count'], axis=1, inplace=False)\n",
    "\n",
    "X_train, X_test, y_train, y_test = train_test_split(X_data, y_target, test_size=0.3, random_state=156)\n",
    "\n",
    "# 선형회귀 OLS로 학습/예측/평가 수행.\n",
    "lr = LinearRegression()\n",
    "lr.fit(X_train, y_train)\n",
    "y_preds = lr.predict(X_test)\n",
    "mse = mean_squared_error(y_test, y_preds)\n",
    "rmse = np.sqrt(mse)\n",
    "\n",
    "print('MSE: {0: .3f}, RMSE: {1: .3F}'.format(mse, rmse))\n",
    "print('Variance score: {0: .3f}'.format(r2_score(y_test, y_preds)))"
   ]
  },
  {
   "cell_type": "code",
   "execution_count": 35,
   "id": "f9dc3be6",
   "metadata": {},
   "outputs": [
    {
     "name": "stdout",
     "output_type": "stream",
     "text": [
      "절편 값:  -171413.30354858033\n",
      "회귀 계수값:  [-5.7 -1.2  4.5 -4.5  1.5  4.6 -2.   0.5 85.2  9.5  0.5  7.7]\n"
     ]
    }
   ],
   "source": [
    "print('절편 값: ', lr.intercept_)\n",
    "print('회귀 계수값: ', np.round(lr.coef_, 1))"
   ]
  },
  {
   "cell_type": "code",
   "execution_count": 36,
   "id": "6170def6",
   "metadata": {},
   "outputs": [
    {
     "data": {
      "text/plain": [
       "year          85.2\n",
       "month          9.5\n",
       "hour           7.7\n",
       "atemp          4.6\n",
       "workingday     4.5\n",
       "temp           1.5\n",
       "windspeed      0.5\n",
       "day            0.5\n",
       "holiday       -1.2\n",
       "humidity      -2.0\n",
       "weather       -4.5\n",
       "season        -5.7\n",
       "dtype: float64"
      ]
     },
     "execution_count": 36,
     "metadata": {},
     "output_type": "execute_result"
    }
   ],
   "source": [
    "# 회귀 계수를 큰 값 순으로 정렬하기 위해 Series로 생성. 인덱스 칼럼명에 유의\n",
    "coeff = pd.Series(data=np.round(lr.coef_, 1), index=X_data.columns)\n",
    "coeff.sort_values(ascending=False)"
   ]
  },
  {
   "cell_type": "code",
   "execution_count": 37,
   "id": "23b31b00",
   "metadata": {},
   "outputs": [
    {
     "name": "stdout",
     "output_type": "stream",
     "text": [
      " 5 folds 의 개별 Negative MSE scores:  [-10637.64 -14746.03 -13481.62 -32888.9  -33840.74]\n",
      " 5 folds 의 개별 RMSE scores:  [103.14 121.43 116.11 181.35 183.96]\n",
      " 5 folds 의 평균 RMSE :  141.199\n"
     ]
    }
   ],
   "source": [
    "from sklearn.model_selection import cross_val_score\n",
    "\n",
    "y_target = bike_df['count']\n",
    "X_data = bike_df.drop(['count'], axis=1, inplace=False)\n",
    "lr = LinearRegression()\n",
    "\n",
    "# cross_val_score()로 5 폴드 세트로 MSE를 구한 뒤 이를 기반으로 다시 RMSE 구함.\n",
    "neg_mse_scores = cross_val_score(lr, X_data, y_target, scoring='neg_mean_squared_error', cv=5)\n",
    "rmse_scores = np.sqrt(-1 * neg_mse_scores)\n",
    "avg_rmse = np.mean(rmse_scores)\n",
    "\n",
    "# cross_val_score(scoring='neg_mean_squared_error')로 반환된 값은 모두 음수\n",
    "print(' 5 folds 의 개별 Negative MSE scores: ', np.round(neg_mse_scores, 2))\n",
    "print(' 5 folds 의 개별 RMSE scores: ', np.round(rmse_scores, 2))\n",
    "print(' 5 folds 의 평균 RMSE : {0: .3f}'.format(avg_rmse))"
   ]
  },
  {
   "cell_type": "markdown",
   "id": "7266253c",
   "metadata": {},
   "source": [
    "#### 릿지 회귀 "
   ]
  },
  {
   "cell_type": "code",
   "execution_count": 39,
   "id": "095b3c38",
   "metadata": {},
   "outputs": [
    {
     "name": "stdout",
     "output_type": "stream",
     "text": [
      " 5 folds 의 개별 Negative MSE scores:  [-10613.634 -14761.903 -13470.407 -32888.907 -33848.89 ]\n",
      " 5 folds 의 개별 RMSE scores:  [103.022 121.499 116.062 181.353 183.981]\n",
      " 5 folds 의 평균 RMSE :  141.183\n"
     ]
    }
   ],
   "source": [
    "from sklearn.linear_model import Ridge\n",
    "from sklearn.model_selection import cross_val_score\n",
    "\n",
    "# alpha=10으로 설정해 릿지 회귀 수행.\n",
    "ridge = Ridge(alpha = 10)\n",
    "neg_mse_scores = cross_val_score(ridge, X_data, y_target, scoring='neg_mean_squared_error', cv=5)\n",
    "rmse_scores = np.sqrt(-1 * neg_mse_scores)\n",
    "avg_rmse = np.mean(rmse_scores)\n",
    "\n",
    "print(' 5 folds 의 개별 Negative MSE scores: ', np.round(neg_mse_scores, 3))\n",
    "print(' 5 folds 의 개별 RMSE scores: ', np.round(rmse_scores, 3))\n",
    "print(' 5 folds 의 평균 RMSE : {0: .3f}'.format(avg_rmse))"
   ]
  },
  {
   "cell_type": "code",
   "execution_count": 40,
   "id": "de9a5167",
   "metadata": {},
   "outputs": [
    {
     "name": "stdout",
     "output_type": "stream",
     "text": [
      "alpha 0 일 떄 5 folds의 평균 RMSE :  141.199\n",
      "alpha 0.1 일 떄 5 folds의 평균 RMSE :  141.199\n",
      "alpha 1 일 떄 5 folds의 평균 RMSE :  141.197\n",
      "alpha 10 일 떄 5 folds의 평균 RMSE :  141.183\n",
      "alpha 100 일 떄 5 folds의 평균 RMSE :  141.113\n"
     ]
    }
   ],
   "source": [
    "# 릿지에 사용된 alpha 파라미터의 값을 정의\n",
    "alphas = [0, 0.1, 1, 10, 100]\n",
    "\n",
    "# alphas list 값을 반복하면서 alpha에 따른 평균 rmse를 구함.\n",
    "for alpha in alphas:\n",
    "    ridge = Ridge(alpha=alpha)\n",
    "    \n",
    "    # cross_val_score를 이용해 5 폴드의 평균 RMSE를 계산\n",
    "    neg_mse_scores = cross_val_score(ridge, X_data, y_target, scoring='neg_mean_squared_error', cv=5)\n",
    "    avg_rmse = np.mean(np.sqrt(-1 * neg_mse_scores))\n",
    "    print('alpha {0} 일 떄 5 folds의 평균 RMSE : {1: .3f}'.format(alpha, avg_rmse))"
   ]
  },
  {
   "cell_type": "code",
   "execution_count": 41,
   "id": "d62bfbbc",
   "metadata": {},
   "outputs": [
    {
     "data": {
      "image/png": "[encoded data removed]",
      "text/plain": [
       "<Figure size 1800x600 with 5 Axes>"
      ]
     },
     "metadata": {},
     "output_type": "display_data"
    }
   ],
   "source": [
    "# 각 alpha에 따른 회귀 계수 값을 시각화하기 위해 5개의 열로 된 맷플롯립 축 생성\n",
    "fig, axs =plt.subplots(figsize=(18, 6), nrows=1, ncols=5)\n",
    "# 각 alpha에 따른 회귀 계수 값을 데이터로 저장하기 위한 DataFrame 생성\n",
    "coeff_df = pd.DataFrame()\n",
    "\n",
    "# alphas 리스트 값을 차례로 입력해 회귀 계수 값 시각화 및 데이터 저장. pos는 axis의 위치 지정\n",
    "for pos, alpha in enumerate(alphas):\n",
    "    ridge = Ridge(alpha=alpha)\n",
    "    ridge.fit(X_data, y_target)\n",
    "    # alpha에 따른 치러별로 회귀 계수를 Series로 변환하고 이를 DataFrame의 칼럼으로 추가.\n",
    "    coeff = pd.Series(data=ridge.coef_, index=X_data.columns)\n",
    "    colname='alpha: '+str(alpha)\n",
    "    coeff_df[colname] = coeff\n",
    "    # 막대 그래프로 각 alpha 값에서의 회귀 계수를 시각화. 회귀 계수값이 높은 순으로 표현\n",
    "    coeff =coeff.sort_values(ascending=False)\n",
    "    axs[pos].set_title(colname)\n",
    "    axs[pos].set_xlim(-3, 6)\n",
    "    sns.barplot(x=coeff.values, y=coeff.index, ax=axs[pos])\n",
    "    \n",
    "# for문 바깥에서 맷플롯립의 show 호출 및 alpha예 따른 피처별 회귀 계수를 DataFrame으로 표시 \n",
    "plt.show()"
   ]
  },
  {
   "cell_type": "code",
   "execution_count": 42,
   "id": "eb11bb95",
   "metadata": {},
   "outputs": [
    {
     "data": {
      "text/html": [
       "<div>\n",
       "<style scoped>\n",
       "    .dataframe tbody tr th:only-of-type {\n",
       "        vertical-align: middle;\n",
       "    }\n",
       "\n",
       "    .dataframe tbody tr th {\n",
       "        vertical-align: top;\n",
       "    }\n",
       "\n",
       "    .dataframe thead th {\n",
       "        text-align: right;\n",
       "    }\n",
       "</style>\n",
       "<table border=\"1\" class=\"dataframe\">\n",
       "  <thead>\n",
       "    <tr style=\"text-align: right;\">\n",
       "      <th></th>\n",
       "      <th>alpha: 0</th>\n",
       "      <th>alpha: 0.1</th>\n",
       "      <th>alpha: 1</th>\n",
       "      <th>alpha: 10</th>\n",
       "      <th>alpha: 100</th>\n",
       "    </tr>\n",
       "  </thead>\n",
       "  <tbody>\n",
       "    <tr>\n",
       "      <th>year</th>\n",
       "      <td>82.762360</td>\n",
       "      <td>82.759269</td>\n",
       "      <td>82.731458</td>\n",
       "      <td>82.454395</td>\n",
       "      <td>79.783624</td>\n",
       "    </tr>\n",
       "    <tr>\n",
       "      <th>month</th>\n",
       "      <td>9.933357</td>\n",
       "      <td>9.932953</td>\n",
       "      <td>9.929322</td>\n",
       "      <td>9.893387</td>\n",
       "      <td>9.569745</td>\n",
       "    </tr>\n",
       "    <tr>\n",
       "      <th>hour</th>\n",
       "      <td>7.778084</td>\n",
       "      <td>7.778073</td>\n",
       "      <td>7.777982</td>\n",
       "      <td>7.777073</td>\n",
       "      <td>7.768221</td>\n",
       "    </tr>\n",
       "    <tr>\n",
       "      <th>atemp</th>\n",
       "      <td>4.674261</td>\n",
       "      <td>4.674251</td>\n",
       "      <td>4.674162</td>\n",
       "      <td>4.673243</td>\n",
       "      <td>4.662384</td>\n",
       "    </tr>\n",
       "    <tr>\n",
       "      <th>temp</th>\n",
       "      <td>1.647560</td>\n",
       "      <td>1.647582</td>\n",
       "      <td>1.647782</td>\n",
       "      <td>1.649803</td>\n",
       "      <td>1.671588</td>\n",
       "    </tr>\n",
       "    <tr>\n",
       "      <th>windspeed</th>\n",
       "      <td>0.604918</td>\n",
       "      <td>0.604907</td>\n",
       "      <td>0.604811</td>\n",
       "      <td>0.603853</td>\n",
       "      <td>0.594624</td>\n",
       "    </tr>\n",
       "    <tr>\n",
       "      <th>day</th>\n",
       "      <td>0.377886</td>\n",
       "      <td>0.377888</td>\n",
       "      <td>0.377900</td>\n",
       "      <td>0.378018</td>\n",
       "      <td>0.378986</td>\n",
       "    </tr>\n",
       "    <tr>\n",
       "      <th>workingday</th>\n",
       "      <td>0.172994</td>\n",
       "      <td>0.173150</td>\n",
       "      <td>0.174552</td>\n",
       "      <td>0.187985</td>\n",
       "      <td>0.279257</td>\n",
       "    </tr>\n",
       "    <tr>\n",
       "      <th>humidity</th>\n",
       "      <td>-2.037791</td>\n",
       "      <td>-2.037802</td>\n",
       "      <td>-2.037895</td>\n",
       "      <td>-2.038824</td>\n",
       "      <td>-2.047794</td>\n",
       "    </tr>\n",
       "    <tr>\n",
       "      <th>weather</th>\n",
       "      <td>-4.889093</td>\n",
       "      <td>-4.888871</td>\n",
       "      <td>-4.886873</td>\n",
       "      <td>-4.866973</td>\n",
       "      <td>-4.675761</td>\n",
       "    </tr>\n",
       "    <tr>\n",
       "      <th>holiday</th>\n",
       "      <td>-5.959934</td>\n",
       "      <td>-5.957962</td>\n",
       "      <td>-5.940282</td>\n",
       "      <td>-5.769319</td>\n",
       "      <td>-4.491049</td>\n",
       "    </tr>\n",
       "    <tr>\n",
       "      <th>season</th>\n",
       "      <td>-7.736822</td>\n",
       "      <td>-7.735568</td>\n",
       "      <td>-7.724294</td>\n",
       "      <td>-7.612735</td>\n",
       "      <td>-6.609658</td>\n",
       "    </tr>\n",
       "  </tbody>\n",
       "</table>\n",
       "</div>"
      ],
      "text/plain": [
       "             alpha: 0  alpha: 0.1   alpha: 1  alpha: 10  alpha: 100\n",
       "year        82.762360   82.759269  82.731458  82.454395   79.783624\n",
       "month        9.933357    9.932953   9.929322   9.893387    9.569745\n",
       "hour         7.778084    7.778073   7.777982   7.777073    7.768221\n",
       "atemp        4.674261    4.674251   4.674162   4.673243    4.662384\n",
       "temp         1.647560    1.647582   1.647782   1.649803    1.671588\n",
       "windspeed    0.604918    0.604907   0.604811   0.603853    0.594624\n",
       "day          0.377886    0.377888   0.377900   0.378018    0.378986\n",
       "workingday   0.172994    0.173150   0.174552   0.187985    0.279257\n",
       "humidity    -2.037791   -2.037802  -2.037895  -2.038824   -2.047794\n",
       "weather     -4.889093   -4.888871  -4.886873  -4.866973   -4.675761\n",
       "holiday     -5.959934   -5.957962  -5.940282  -5.769319   -4.491049\n",
       "season      -7.736822   -7.735568  -7.724294  -7.612735   -6.609658"
      ]
     },
     "execution_count": 42,
     "metadata": {},
     "output_type": "execute_result"
    }
   ],
   "source": [
    "ridge_alphas = [0, 0.1, 1, 10, 100]\n",
    "sort_column = 'alpha: '+str(ridge_alphas[0])\n",
    "coeff_df.sort_values(by=sort_column, ascending=False)"
   ]
  },
  {
   "cell_type": "markdown",
   "id": "8b422dcb",
   "metadata": {},
   "source": [
    "#### 라쏘 회귀"
   ]
  },
  {
   "cell_type": "code",
   "execution_count": 43,
   "id": "1a7dfc5a",
   "metadata": {},
   "outputs": [
    {
     "name": "stdout",
     "output_type": "stream",
     "text": [
      "####### Lasso #######\n",
      "alpha 0.07일 때 5 폴드 세트의 평균 RMSE:  141.151\n",
      "alpha 0.1일 때 5 폴드 세트의 평균 RMSE:  141.131\n",
      "alpha 0.5일 때 5 폴드 세트의 평균 RMSE:  140.935\n",
      "alpha 1일 때 5 폴드 세트의 평균 RMSE:  140.793\n",
      "alpha 3일 때 5 폴드 세트의 평균 RMSE:  141.204\n"
     ]
    }
   ],
   "source": [
    "from sklearn.linear_model import Lasso, ElasticNet\n",
    "\n",
    "# alpha 값에 따른 회귀 모델의 폴드 평균 RMSE를 출력하고 회귀 계수값들을 DataFrame으로 반환\n",
    "def get_linear_reg_eval(model_name, params=None, X_data_n=None, y_target_n=None,\n",
    "                        verbose=True, return_coeff=True):\n",
    "    coeff_df = pd.DataFrame()\n",
    "    if verbose: print('#######', model_name, '#######')\n",
    "    for param in params:\n",
    "        if model_name == 'Ridge': model = Ridge(alpha=param)\n",
    "        elif model_name == 'Lasso': model = Lasso(alpha=param)\n",
    "        elif model_name == 'ElasticNet': model = ElasticNet(alpha=param, l1_ratio=0.7)\n",
    "        neg_mse_scores = cross_val_score(model, X_data_n,\n",
    "                                         y_target_n, scoring='neg_mean_squared_error', cv=5)\n",
    "        \n",
    "        avg_rmse = np.mean(np.sqrt(-1 * neg_mse_scores))\n",
    "        print('alpha {0}일 때 5 폴드 세트의 평균 RMSE: {1: .3f}'.format(param, avg_rmse))\n",
    "        # cross_val_score는 evalution metric만 반환하므로 모델을 다시 학습하여 회귀 계수 추출\n",
    "                               \n",
    "        model.fit(X_data_n, y_target_n)\n",
    "        if return_coeff:\n",
    "                # alpha 에 따른 피처별 회귀 계수를 Series로 변환하고 이를 DataFrame의 칼럼으로 추가.\n",
    "                coeff = pd.Series(data=model.coef_, index=X_data_n.columns)\n",
    "                colname = 'alpha: '+str(param)\n",
    "                coeff_df[colname] = coeff\n",
    "                               \n",
    "    return coeff_df\n",
    "# end of get_linear_regre_eval\n",
    "# 라쏘에 사용될 alpha 파라미터의 값을 정의하고 get_linear_reg_eval() 함수 호출\n",
    "lasso_alphas = [0.07, 0.1, 0.5, 1, 3]\n",
    "coeff_lasso_df = get_linear_reg_eval('Lasso', params=lasso_alphas, X_data_n=X_data, y_target_n=y_target)"
   ]
  },
  {
   "cell_type": "code",
   "execution_count": 44,
   "id": "a587b4b2",
   "metadata": {},
   "outputs": [
    {
     "data": {
      "text/html": [
       "<div>\n",
       "<style scoped>\n",
       "    .dataframe tbody tr th:only-of-type {\n",
       "        vertical-align: middle;\n",
       "    }\n",
       "\n",
       "    .dataframe tbody tr th {\n",
       "        vertical-align: top;\n",
       "    }\n",
       "\n",
       "    .dataframe thead th {\n",
       "        text-align: right;\n",
       "    }\n",
       "</style>\n",
       "<table border=\"1\" class=\"dataframe\">\n",
       "  <thead>\n",
       "    <tr style=\"text-align: right;\">\n",
       "      <th></th>\n",
       "      <th>alpha: 0.07</th>\n",
       "      <th>alpha: 0.1</th>\n",
       "      <th>alpha: 0.5</th>\n",
       "      <th>alpha: 1</th>\n",
       "      <th>alpha: 3</th>\n",
       "    </tr>\n",
       "  </thead>\n",
       "  <tbody>\n",
       "    <tr>\n",
       "      <th>year</th>\n",
       "      <td>82.460266</td>\n",
       "      <td>82.330912</td>\n",
       "      <td>80.664294</td>\n",
       "      <td>78.582238</td>\n",
       "      <td>70.426731</td>\n",
       "    </tr>\n",
       "    <tr>\n",
       "      <th>month</th>\n",
       "      <td>9.567585</td>\n",
       "      <td>9.410145</td>\n",
       "      <td>7.465517</td>\n",
       "      <td>7.436050</td>\n",
       "      <td>7.265724</td>\n",
       "    </tr>\n",
       "    <tr>\n",
       "      <th>hour</th>\n",
       "      <td>7.774883</td>\n",
       "      <td>7.773516</td>\n",
       "      <td>7.755293</td>\n",
       "      <td>7.728048</td>\n",
       "      <td>7.660627</td>\n",
       "    </tr>\n",
       "    <tr>\n",
       "      <th>atemp</th>\n",
       "      <td>4.612258</td>\n",
       "      <td>4.587331</td>\n",
       "      <td>4.472330</td>\n",
       "      <td>4.508081</td>\n",
       "      <td>4.567298</td>\n",
       "    </tr>\n",
       "    <tr>\n",
       "      <th>temp</th>\n",
       "      <td>1.716512</td>\n",
       "      <td>1.744232</td>\n",
       "      <td>1.871853</td>\n",
       "      <td>1.841917</td>\n",
       "      <td>1.804861</td>\n",
       "    </tr>\n",
       "    <tr>\n",
       "      <th>windspeed</th>\n",
       "      <td>0.598370</td>\n",
       "      <td>0.595621</td>\n",
       "      <td>0.569347</td>\n",
       "      <td>0.539927</td>\n",
       "      <td>0.470243</td>\n",
       "    </tr>\n",
       "    <tr>\n",
       "      <th>day</th>\n",
       "      <td>0.376875</td>\n",
       "      <td>0.376444</td>\n",
       "      <td>0.366082</td>\n",
       "      <td>0.351681</td>\n",
       "      <td>0.289935</td>\n",
       "    </tr>\n",
       "    <tr>\n",
       "      <th>workingday</th>\n",
       "      <td>0.044960</td>\n",
       "      <td>0.000000</td>\n",
       "      <td>0.000000</td>\n",
       "      <td>0.000000</td>\n",
       "      <td>0.000000</td>\n",
       "    </tr>\n",
       "    <tr>\n",
       "      <th>humidity</th>\n",
       "      <td>-2.041188</td>\n",
       "      <td>-2.042644</td>\n",
       "      <td>-2.062370</td>\n",
       "      <td>-2.092418</td>\n",
       "      <td>-2.136485</td>\n",
       "    </tr>\n",
       "    <tr>\n",
       "      <th>holiday</th>\n",
       "      <td>-3.737879</td>\n",
       "      <td>-2.778326</td>\n",
       "      <td>-0.000000</td>\n",
       "      <td>-0.000000</td>\n",
       "      <td>-0.000000</td>\n",
       "    </tr>\n",
       "    <tr>\n",
       "      <th>weather</th>\n",
       "      <td>-4.662037</td>\n",
       "      <td>-4.564966</td>\n",
       "      <td>-3.306133</td>\n",
       "      <td>-1.708253</td>\n",
       "      <td>-0.000000</td>\n",
       "    </tr>\n",
       "    <tr>\n",
       "      <th>season</th>\n",
       "      <td>-6.591647</td>\n",
       "      <td>-6.098624</td>\n",
       "      <td>-0.000000</td>\n",
       "      <td>-0.000000</td>\n",
       "      <td>0.000000</td>\n",
       "    </tr>\n",
       "  </tbody>\n",
       "</table>\n",
       "</div>"
      ],
      "text/plain": [
       "            alpha: 0.07  alpha: 0.1  alpha: 0.5   alpha: 1   alpha: 3\n",
       "year          82.460266   82.330912   80.664294  78.582238  70.426731\n",
       "month          9.567585    9.410145    7.465517   7.436050   7.265724\n",
       "hour           7.774883    7.773516    7.755293   7.728048   7.660627\n",
       "atemp          4.612258    4.587331    4.472330   4.508081   4.567298\n",
       "temp           1.716512    1.744232    1.871853   1.841917   1.804861\n",
       "windspeed      0.598370    0.595621    0.569347   0.539927   0.470243\n",
       "day            0.376875    0.376444    0.366082   0.351681   0.289935\n",
       "workingday     0.044960    0.000000    0.000000   0.000000   0.000000\n",
       "humidity      -2.041188   -2.042644   -2.062370  -2.092418  -2.136485\n",
       "holiday       -3.737879   -2.778326   -0.000000  -0.000000  -0.000000\n",
       "weather       -4.662037   -4.564966   -3.306133  -1.708253  -0.000000\n",
       "season        -6.591647   -6.098624   -0.000000  -0.000000   0.000000"
      ]
     },
     "execution_count": 44,
     "metadata": {},
     "output_type": "execute_result"
    }
   ],
   "source": [
    "# 반환된 coeff_lasso_df를 첫 번째 칼럼순으로 내림차순 정렬해 회귀계수 DataFrame 출력\n",
    "sort_column = 'alpha: '+str(lasso_alphas[0])\n",
    "coeff_lasso_df.sort_values(by=sort_column, ascending=False)"
   ]
  },
  {
   "cell_type": "markdown",
   "id": "8c9d7056",
   "metadata": {},
   "source": [
    "#### 엘라스틱넷 회귀 "
   ]
  },
  {
   "cell_type": "code",
   "execution_count": 46,
   "id": "6e5af7f6",
   "metadata": {},
   "outputs": [
    {
     "name": "stdout",
     "output_type": "stream",
     "text": [
      "####### ElasticNet #######\n",
      "alpha 0.07일 때 5 폴드 세트의 평균 RMSE:  141.121\n",
      "alpha 0.1일 때 5 폴드 세트의 평균 RMSE:  141.199\n",
      "alpha 0.5일 때 5 폴드 세트의 평균 RMSE:  143.947\n",
      "alpha 1일 때 5 폴드 세트의 평균 RMSE:  147.075\n",
      "alpha 3일 때 5 폴드 세트의 평균 RMSE:  152.313\n"
     ]
    }
   ],
   "source": [
    "# 엘라스틱넷에 사용될 alpha 파라미터의 값들을 정의하고 get_linear_reg_eval() 함수 호출\n",
    "# l1_ratio는 0.7로 고정\n",
    "elastic_alphas = [0.07, 0.1, 0.5, 1, 3]\n",
    "coeff_elastic_df = get_linear_reg_eval('ElasticNet', params=elastic_alphas,\n",
    "                                       X_data_n=X_data, y_target_n=y_target)"
   ]
  },
  {
   "cell_type": "code",
   "execution_count": 47,
   "id": "a6d438c8",
   "metadata": {},
   "outputs": [
    {
     "data": {
      "text/html": [
       "<div>\n",
       "<style scoped>\n",
       "    .dataframe tbody tr th:only-of-type {\n",
       "        vertical-align: middle;\n",
       "    }\n",
       "\n",
       "    .dataframe tbody tr th {\n",
       "        vertical-align: top;\n",
       "    }\n",
       "\n",
       "    .dataframe thead th {\n",
       "        text-align: right;\n",
       "    }\n",
       "</style>\n",
       "<table border=\"1\" class=\"dataframe\">\n",
       "  <thead>\n",
       "    <tr style=\"text-align: right;\">\n",
       "      <th></th>\n",
       "      <th>alpha: 0.07</th>\n",
       "      <th>alpha: 0.1</th>\n",
       "      <th>alpha: 0.5</th>\n",
       "      <th>alpha: 1</th>\n",
       "      <th>alpha: 3</th>\n",
       "    </tr>\n",
       "  </thead>\n",
       "  <tbody>\n",
       "    <tr>\n",
       "      <th>year</th>\n",
       "      <td>76.063148</td>\n",
       "      <td>73.505706</td>\n",
       "      <td>50.527107</td>\n",
       "      <td>36.006948</td>\n",
       "      <td>15.939725</td>\n",
       "    </tr>\n",
       "    <tr>\n",
       "      <th>month</th>\n",
       "      <td>8.998879</td>\n",
       "      <td>8.712603</td>\n",
       "      <td>7.361517</td>\n",
       "      <td>7.231478</td>\n",
       "      <td>6.739223</td>\n",
       "    </tr>\n",
       "    <tr>\n",
       "      <th>hour</th>\n",
       "      <td>7.754085</td>\n",
       "      <td>7.744610</td>\n",
       "      <td>7.650398</td>\n",
       "      <td>7.576109</td>\n",
       "      <td>7.409267</td>\n",
       "    </tr>\n",
       "    <tr>\n",
       "      <th>atemp</th>\n",
       "      <td>4.598196</td>\n",
       "      <td>4.564550</td>\n",
       "      <td>4.342299</td>\n",
       "      <td>4.257285</td>\n",
       "      <td>4.039669</td>\n",
       "    </tr>\n",
       "    <tr>\n",
       "      <th>temp</th>\n",
       "      <td>1.756034</td>\n",
       "      <td>1.802787</td>\n",
       "      <td>2.138179</td>\n",
       "      <td>2.293492</td>\n",
       "      <td>2.624350</td>\n",
       "    </tr>\n",
       "    <tr>\n",
       "      <th>windspeed</th>\n",
       "      <td>0.577985</td>\n",
       "      <td>0.567567</td>\n",
       "      <td>0.474556</td>\n",
       "      <td>0.413379</td>\n",
       "      <td>0.315748</td>\n",
       "    </tr>\n",
       "    <tr>\n",
       "      <th>day</th>\n",
       "      <td>0.378940</td>\n",
       "      <td>0.378978</td>\n",
       "      <td>0.373520</td>\n",
       "      <td>0.363186</td>\n",
       "      <td>0.315417</td>\n",
       "    </tr>\n",
       "    <tr>\n",
       "      <th>workingday</th>\n",
       "      <td>0.197519</td>\n",
       "      <td>0.146015</td>\n",
       "      <td>0.000000</td>\n",
       "      <td>0.000000</td>\n",
       "      <td>0.000000</td>\n",
       "    </tr>\n",
       "    <tr>\n",
       "      <th>humidity</th>\n",
       "      <td>-2.061932</td>\n",
       "      <td>-2.071224</td>\n",
       "      <td>-2.155827</td>\n",
       "      <td>-2.208708</td>\n",
       "      <td>-2.259886</td>\n",
       "    </tr>\n",
       "    <tr>\n",
       "      <th>holiday</th>\n",
       "      <td>-2.539385</td>\n",
       "      <td>-1.830102</td>\n",
       "      <td>-0.000000</td>\n",
       "      <td>-0.000000</td>\n",
       "      <td>-0.000000</td>\n",
       "    </tr>\n",
       "    <tr>\n",
       "      <th>weather</th>\n",
       "      <td>-4.276367</td>\n",
       "      <td>-4.043366</td>\n",
       "      <td>-2.002892</td>\n",
       "      <td>-0.763440</td>\n",
       "      <td>-0.000000</td>\n",
       "    </tr>\n",
       "    <tr>\n",
       "      <th>season</th>\n",
       "      <td>-4.840404</td>\n",
       "      <td>-3.959372</td>\n",
       "      <td>-0.000000</td>\n",
       "      <td>0.000000</td>\n",
       "      <td>0.000000</td>\n",
       "    </tr>\n",
       "  </tbody>\n",
       "</table>\n",
       "</div>"
      ],
      "text/plain": [
       "            alpha: 0.07  alpha: 0.1  alpha: 0.5   alpha: 1   alpha: 3\n",
       "year          76.063148   73.505706   50.527107  36.006948  15.939725\n",
       "month          8.998879    8.712603    7.361517   7.231478   6.739223\n",
       "hour           7.754085    7.744610    7.650398   7.576109   7.409267\n",
       "atemp          4.598196    4.564550    4.342299   4.257285   4.039669\n",
       "temp           1.756034    1.802787    2.138179   2.293492   2.624350\n",
       "windspeed      0.577985    0.567567    0.474556   0.413379   0.315748\n",
       "day            0.378940    0.378978    0.373520   0.363186   0.315417\n",
       "workingday     0.197519    0.146015    0.000000   0.000000   0.000000\n",
       "humidity      -2.061932   -2.071224   -2.155827  -2.208708  -2.259886\n",
       "holiday       -2.539385   -1.830102   -0.000000  -0.000000  -0.000000\n",
       "weather       -4.276367   -4.043366   -2.002892  -0.763440  -0.000000\n",
       "season        -4.840404   -3.959372   -0.000000   0.000000   0.000000"
      ]
     },
     "execution_count": 47,
     "metadata": {},
     "output_type": "execute_result"
    }
   ],
   "source": [
    "# 반환된 coeff_elastic_df를 첫 번째 칼럼순으로 내림차순 정렬해 회귀계수 DataFrme 출력\n",
    "sort_column = 'alpha: ' +str(elastic_alphas[0])\n",
    "coeff_elastic_df.sort_values(by=sort_column, ascending=False)"
   ]
  },
  {
   "cell_type": "markdown",
   "id": "df6f65da",
   "metadata": {},
   "source": [
    "## 하이퍼 파라미터 튜닝을 활용하여 결과 비교 "
   ]
  },
  {
   "cell_type": "code",
   "execution_count": 65,
   "id": "a7c77e7e",
   "metadata": {},
   "outputs": [],
   "source": [
    "from sklearn.preprocessing import StandardScaler, PolynomialFeatures, MinMaxScaler\n",
    "\n",
    "# method는 표준 정규 분포 변환(Standard), 최댓값/최솟값 정규화(MinMax), 로그변환(Log) 결정\n",
    "# p_degree는 다항식 특성을 추가할 떄 적용. p_degree는 2 이상 부여하지 않음.\n",
    "def get_scaled_data(method='None', p_degree=None, input_data=None):\n",
    "    if method == 'Standard':\n",
    "        scaled_data = StandardScaler().fit_transform(input_data)\n",
    "    elif method == 'MinMax':\n",
    "        scaled_data = MinMaxScaler().fit_transform(input_data)\n",
    "    elif method == 'Log':\n",
    "        scaled_data = np.log1p(input_data)\n",
    "    else:\n",
    "        scaled_data = input_data\n",
    "        \n",
    "    if p_degree != None:\n",
    "        scaled_data = PolynomialFeatures(degree=p_degree,\n",
    "                                         include_bias=False).fit_transform(scaled_data)\n",
    "        \n",
    "    return scaled_data"
   ]
  },
  {
   "cell_type": "code",
   "execution_count": 66,
   "id": "f0243efa",
   "metadata": {},
   "outputs": [
    {
     "name": "stdout",
     "output_type": "stream",
     "text": [
      "\n",
      " 변환 유형: None, Polynomial Degree: None\n",
      "alpha 0.1일 때 5 폴드 세트의 평균 RMSE:  141.199\n",
      "alpha 1일 때 5 폴드 세트의 평균 RMSE:  141.197\n",
      "alpha 10일 때 5 폴드 세트의 평균 RMSE:  141.183\n",
      "alpha 100일 때 5 폴드 세트의 평균 RMSE:  141.113\n",
      "\n",
      " 변환 유형: Standard, Polynomial Degree: None\n",
      "alpha 0.1일 때 5 폴드 세트의 평균 RMSE:  141.198\n",
      "alpha 1일 때 5 폴드 세트의 평균 RMSE:  141.194\n",
      "alpha 10일 때 5 폴드 세트의 평균 RMSE:  141.151\n",
      "alpha 100일 때 5 폴드 세트의 평균 RMSE:  140.903\n",
      "\n",
      " 변환 유형: Standard, Polynomial Degree: 2\n",
      "alpha 0.1일 때 5 폴드 세트의 평균 RMSE:  133.661\n",
      "alpha 1일 때 5 폴드 세트의 평균 RMSE:  133.517\n",
      "alpha 10일 때 5 폴드 세트의 평균 RMSE:  133.648\n",
      "alpha 100일 때 5 폴드 세트의 평균 RMSE:  134.021\n",
      "\n",
      " 변환 유형: MinMax, Polynomial Degree: None\n",
      "alpha 0.1일 때 5 폴드 세트의 평균 RMSE:  141.189\n",
      "alpha 1일 때 5 폴드 세트의 평균 RMSE:  141.123\n",
      "alpha 10일 때 5 폴드 세트의 평균 RMSE:  140.785\n",
      "alpha 100일 때 5 폴드 세트의 평균 RMSE:  139.685\n",
      "\n",
      " 변환 유형: MinMax, Polynomial Degree: 2\n",
      "alpha 0.1일 때 5 폴드 세트의 평균 RMSE:  133.502\n",
      "alpha 1일 때 5 폴드 세트의 평균 RMSE:  131.551\n",
      "alpha 10일 때 5 폴드 세트의 평균 RMSE:  127.211\n",
      "alpha 100일 때 5 폴드 세트의 평균 RMSE:  129.699\n",
      "\n",
      " 변환 유형: Log, Polynomial Degree: None\n",
      "alpha 0.1일 때 5 폴드 세트의 평균 RMSE:  159.623\n",
      "alpha 1일 때 5 폴드 세트의 평균 RMSE:  159.723\n",
      "alpha 10일 때 5 폴드 세트의 평균 RMSE:  159.462\n",
      "alpha 100일 때 5 폴드 세트의 평균 RMSE:  157.992\n"
     ]
    }
   ],
   "source": [
    "# Ridge의 alpha값을 다르게 적용하고 다양한 데이터 변환 방법에 따른 RMSE 추출.\n",
    "alphas =[0.1, 1, 10, 100]\n",
    "\n",
    "# 5개 방식으로 변환. 먼저 원본 그대로, 표준정규 분표, 표준정규 분포+다항식 특성\n",
    "# 최대/최소 정규화, 최대/최소 정규화+다항식 특성, 로그변환\n",
    "scale_methods = [(None, None), ('Standard', None), ('Standard', 2),\n",
    "                 ('MinMax', None), ('MinMax', 2), ('Log', None)]\n",
    "for scale_method in scale_methods:\n",
    "    X_data_scaled = get_scaled_data(method=scale_method[0], p_degree=scale_method[1],\n",
    "                                    input_data=X_data)\n",
    "    print('\\n 변환 유형: {0}, Polynomial Degree: {1}'.format(scale_method[0], scale_method[1]))\n",
    "    get_linear_reg_eval('Ridge', params=alphas, X_data_n=X_data_scaled,\n",
    "                        y_target_n=y_target, verbose=False, return_coeff=False)"
   ]
  },
  {
   "cell_type": "markdown",
   "id": "ea005e9e",
   "metadata": {},
   "source": [
    "## 특성중요도 시각화"
   ]
  },
  {
   "cell_type": "code",
   "execution_count": 80,
   "id": "8f815c02",
   "metadata": {},
   "outputs": [],
   "source": [
    "import numpy as np\n",
    "\n",
    "def get_model_cv_predicition(model, X_data, y_target):\n",
    "    neg_mse_scores=cross_val_score(model, X_data, y_target, scoring='neg_mean_squared_error', cv=5)\n",
    "    rmse_scores = np.sqrt(-1 * neg_mse_scores)\n",
    "    avg_rmse = np.mean(rmse_scores)\n",
    "    print('#### ', model.__class__.__name__, '####')\n",
    "    print('5 교차 검증의 평균 RMSE: {0: .3f}'.format(avg_rmse))"
   ]
  },
  {
   "cell_type": "code",
   "execution_count": 82,
   "id": "5acdaa71",
   "metadata": {},
   "outputs": [
    {
     "name": "stdout",
     "output_type": "stream",
     "text": [
      "####  DecisionTreeRegressor ####\n",
      "5 교차 검증의 평균 RMSE:  139.031\n",
      "####  RandomForestRegressor ####\n",
      "5 교차 검증의 평균 RMSE:  74.001\n",
      "####  GradientBoostingRegressor ####\n",
      "5 교차 검증의 평균 RMSE:  68.113\n",
      "####  XGBRegressor ####\n",
      "5 교차 검증의 평균 RMSE:  70.057\n",
      "####  LGBMRegressor ####\n",
      "5 교차 검증의 평균 RMSE:  66.653\n"
     ]
    }
   ],
   "source": [
    "from sklearn.tree import DecisionTreeRegressor\n",
    "from sklearn.ensemble import GradientBoostingRegressor\n",
    "from xgboost import XGBRegressor\n",
    "from lightgbm import LGBMRegressor\n",
    "\n",
    "y_target = bike_df['count']\n",
    "X_data = bike_df.drop(['count'], axis=1, inplace=False)\n",
    "\n",
    "dt_reg = DecisionTreeRegressor(random_state=0, max_depth=4)\n",
    "rf_reg = RandomForestRegressor(random_state=0, n_estimators=1000)\n",
    "gb_reg = GradientBoostingRegressor(random_state=0, n_estimators=1000)\n",
    "xgb_reg = XGBRegressor(n_estimators=1000)\n",
    "lgb_reg = LGBMRegressor(n_estimators=1000)\n",
    "\n",
    "# 트리 기반의 회귀 모델을 반복하면서 평가 수행\n",
    "models = [dt_reg, rf_reg, gb_reg, xgb_reg, lgb_reg]\n",
    "for model in models:\n",
    "    get_model_cv_predicition(model, X_data, y_target)"
   ]
  },
  {
   "cell_type": "code",
   "execution_count": 101,
   "id": "f1b7687d",
   "metadata": {},
   "outputs": [
    {
     "data": {
      "text/plain": [
       "<Axes: >"
      ]
     },
     "execution_count": 101,
     "metadata": {},
     "output_type": "execute_result"
    },
    {
     "data": {
      "image/png": "[encoded data removed]",
      "text/plain": [
       "<Figure size 640x480 with 1 Axes>"
      ]
     },
     "metadata": {},
     "output_type": "display_data"
    }
   ],
   "source": [
    "from sklearn.ensemble import RandomForestRegressor\n",
    "import seaborn as sns\n",
    "%matplotlib inline\n",
    "\n",
    "rf_reg = RandomForestRegressor(n_estimators=1000)\n",
    "\n",
    "# 앞 예제에서 만들어진 X_data, y_target 데이터 세트를 적용해 학습합니다.\n",
    "rf_reg.fit(X_data, y_target)\n",
    "\n",
    "feature_series = pd.Series(data=rf_reg.feature_importances_, index=X_data.columns)\n",
    "feature_series = feature_series.sort_values(ascending=False)\n",
    "sns.barplot(x= feature_series, y=feature_series.index)"
   ]
  },
  {
   "cell_type": "code",
   "execution_count": 98,
   "id": "af1ec2e5",
   "metadata": {
    "scrolled": false
   },
   "outputs": [],
   "source": [
    "from sklearn.linear_model import LinearRegression\n",
    "import seaborn as sns\n",
    "%matplotlib inline\n",
    "\n",
    "y_target_log = np.log1p(y_target)\n",
    "\n",
    "X_train, X_test, y_train, y_test = train_test_split(X_data, y_target_log, \n",
    "                                                    test_size = 0.3, random_state = 0)\n",
    "\n",
    "lr_reg = LinearRegression()\n",
    "lr_reg.fit(X_train, y_train)\n",
    "pred = lr_reg.predict(X_test)\n",
    "\n",
    "y_test_exp = np.expm1(y_test)\n",
    "pred_exp = np.expm1(pred)"
   ]
  },
  {
   "cell_type": "code",
   "execution_count": 100,
   "id": "42e950ed",
   "metadata": {},
   "outputs": [
    {
     "data": {
      "text/plain": [
       "<Axes: >"
      ]
     },
     "execution_count": 100,
     "metadata": {},
     "output_type": "execute_result"
    },
    {
     "data": {
      "image/png": "[encoded data removed]",
      "text/plain": [
       "<Figure size 640x480 with 1 Axes>"
      ]
     },
     "metadata": {},
     "output_type": "display_data"
    }
   ],
   "source": [
    "coef = pd.Series(lr_reg.coef_, index = X_data.columns)\n",
    "coef_sort = coef.sort_values(ascending = False)\n",
    "sns.barplot(x = coef_sort.values, y = coef_sort.index)"
   ]
  },
  {
   "cell_type": "code",
   "execution_count": null,
   "id": "ae9069ca",
   "metadata": {},
   "outputs": [],
   "source": []
  }
 ],
 "metadata": {
  "kernelspec": {
   "display_name": "Python 3 (ipykernel)",
   "language": "python",
   "name": "python3"
  },
  "language_info": {
   "codemirror_mode": {
    "name": "ipython",
    "version": 3
   },
   "file_extension": ".py",
   "mimetype": "text/x-python",
   "name": "python",
   "nbconvert_exporter": "python",
   "pygments_lexer": "ipython3",
   "version": "3.11.3"
  }
 },
 "nbformat": 4,
 "nbformat_minor": 5
}
