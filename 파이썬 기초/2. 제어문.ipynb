{
 "cells": [
  {
   "cell_type": "code",
   "execution_count": 2,
   "id": "2248d598",
   "metadata": {},
   "outputs": [],
   "source": [
    "a = 3\n",
    "b = 5"
   ]
  },
  {
   "cell_type": "code",
   "execution_count": 3,
   "id": "47c62ed2",
   "metadata": {},
   "outputs": [
    {
     "data": {
      "text/plain": [
       "True"
      ]
     },
     "execution_count": 3,
     "metadata": {},
     "output_type": "execute_result"
    }
   ],
   "source": [
    "a < b   # a가 b보다 작다"
   ]
  },
  {
   "cell_type": "code",
   "execution_count": 4,
   "id": "622fe8c0",
   "metadata": {},
   "outputs": [
    {
     "data": {
      "text/plain": [
       "False"
      ]
     },
     "execution_count": 4,
     "metadata": {},
     "output_type": "execute_result"
    }
   ],
   "source": [
    "a > b   # a가 b보다 크다 "
   ]
  },
  {
   "cell_type": "code",
   "execution_count": 5,
   "id": "6dbc76ee",
   "metadata": {},
   "outputs": [
    {
     "data": {
      "text/plain": [
       "False"
      ]
     },
     "execution_count": 5,
     "metadata": {},
     "output_type": "execute_result"
    }
   ],
   "source": [
    "a == b   # a가 b와 같다"
   ]
  },
  {
   "cell_type": "code",
   "execution_count": 6,
   "id": "76e8d91b",
   "metadata": {},
   "outputs": [
    {
     "data": {
      "text/plain": [
       "True"
      ]
     },
     "execution_count": 6,
     "metadata": {},
     "output_type": "execute_result"
    }
   ],
   "source": [
    "a != b   # a와 b가 같지 않다"
   ]
  },
  {
   "cell_type": "code",
   "execution_count": 7,
   "id": "6a7b0c16",
   "metadata": {},
   "outputs": [
    {
     "data": {
      "text/plain": [
       "True"
      ]
     },
     "execution_count": 7,
     "metadata": {},
     "output_type": "execute_result"
    }
   ],
   "source": [
    "a <= b   # a가 b보다 작거나 같다"
   ]
  },
  {
   "cell_type": "code",
   "execution_count": 8,
   "id": "adf6d613",
   "metadata": {},
   "outputs": [
    {
     "data": {
      "text/plain": [
       "False"
      ]
     },
     "execution_count": 8,
     "metadata": {},
     "output_type": "execute_result"
    }
   ],
   "source": [
    "a >= b   # a가 b보다 크거나 같다"
   ]
  },
  {
   "cell_type": "code",
   "execution_count": 9,
   "id": "f0fd687a",
   "metadata": {},
   "outputs": [
    {
     "name": "stdout",
     "output_type": "stream",
     "text": [
      "택시 거거\n"
     ]
    }
   ],
   "source": [
    "money = False   # True면 실행\n",
    "if money:\n",
    "    print('택시 거거')"
   ]
  },
  {
   "cell_type": "code",
   "execution_count": 11,
   "id": "e7bf8944",
   "metadata": {},
   "outputs": [
    {
     "name": "stdout",
     "output_type": "stream",
     "text": [
      "자산이 5000원 있습니다.\n"
     ]
    }
   ],
   "source": [
    "money = 5000\n",
    "if money >= 4000:\n",
    "    print(\"자산이 \" + str(money) + \"원 있습니다.\")"
   ]
  },
  {
   "cell_type": "code",
   "execution_count": 13,
   "id": "6ccaacbe",
   "metadata": {},
   "outputs": [],
   "source": [
    "money = 3000\n",
    "if money >= 4000:\n",
    "    print(\"자산이 \" + str(money) + \"원 있습니다.\")"
   ]
  },
  {
   "cell_type": "code",
   "execution_count": 14,
   "id": "214ae256",
   "metadata": {},
   "outputs": [
    {
     "name": "stdout",
     "output_type": "stream",
     "text": [
      "자산이\n",
      "5000\n",
      "원 있습니다.\n",
      "감사합니다.\n"
     ]
    }
   ],
   "source": [
    "money = 5000\n",
    "if money >= 4000:\n",
    "    print('자산이')\n",
    "    print(money)\n",
    "    print('원 있습니다.')\n",
    "print('감사합니다.')"
   ]
  },
  {
   "cell_type": "code",
   "execution_count": 15,
   "id": "d583d344",
   "metadata": {},
   "outputs": [
    {
     "name": "stdout",
     "output_type": "stream",
     "text": [
      "감사합니다.\n"
     ]
    }
   ],
   "source": [
    "money = 3000\n",
    "if money >= 4000:\n",
    "    print('자산이')\n",
    "    print(money)\n",
    "    print('원 있습니다.')\n",
    "print('감사합니다.')"
   ]
  },
  {
   "cell_type": "code",
   "execution_count": 16,
   "id": "b1c8fb2b",
   "metadata": {},
   "outputs": [
    {
     "ename": "IndentationError",
     "evalue": "unexpected indent (4032815523.py, line 4)",
     "output_type": "error",
     "traceback": [
      "\u001b[1;36m  Cell \u001b[1;32mIn[16], line 4\u001b[1;36m\u001b[0m\n\u001b[1;33m    print(money)\u001b[0m\n\u001b[1;37m    ^\u001b[0m\n\u001b[1;31mIndentationError\u001b[0m\u001b[1;31m:\u001b[0m unexpected indent\n"
     ]
    }
   ],
   "source": [
    "money = 3000\n",
    "if money >= 4000:\n",
    "    print('자산이')\n",
    "     print(money)\n",
    "    print('원 있습니다.')\n",
    "print('감사합니다.')"
   ]
  },
  {
   "cell_type": "code",
   "execution_count": 17,
   "id": "cbd3459e",
   "metadata": {},
   "outputs": [
    {
     "name": "stdout",
     "output_type": "stream",
     "text": [
      "자산이 500원 이상 있습니다.\n",
      "end\n"
     ]
    }
   ],
   "source": [
    "money = 500\n",
    "if money >= 500:\n",
    "    print(\"자산이 500원 이상 있습니다.\")\n",
    "else:\n",
    "    print(\"자산이 500원도 없습니다.\")\n",
    "print(\"end\")"
   ]
  },
  {
   "cell_type": "code",
   "execution_count": 20,
   "id": "7922ea6b",
   "metadata": {},
   "outputs": [
    {
     "name": "stdout",
     "output_type": "stream",
     "text": [
      "집에갈 차비예요.\n"
     ]
    }
   ],
   "source": [
    "# if - elif - else\n",
    "# if와 else 사이에 여러번 사용할 수 있다. \n",
    "# 조건이 여러개일 때 사용 가능\n",
    "money = 4000\n",
    "if money >= 10000:\n",
    "    print(\"나에겐 10000원 이상이 있다.\")\n",
    "elif money >= 9000:\n",
    "    print(\"나에겐 9000원 이상이 있다.\")\n",
    "elif money >= 5000:\n",
    "    print(\"나에겐 5000원 이상이 있다.\")\n",
    "else :\n",
    "    print(\"집에갈 차비예요.\")"
   ]
  },
  {
   "cell_type": "code",
   "execution_count": 21,
   "id": "a584a394",
   "metadata": {},
   "outputs": [
    {
     "name": "stdout",
     "output_type": "stream",
     "text": [
      "나에겐 9000원 이상이 있다.\n"
     ]
    }
   ],
   "source": [
    "money = 9500\n",
    "if money >= 10000:\n",
    "    print(\"나에겐 10000원 이상이 있다.\")\n",
    "elif money >= 9000:\n",
    "    print(\"나에겐 9000원 이상이 있다.\")\n",
    "elif money >= 5000:\n",
    "    print(\"나에겐 5000원 이상이 있다.\")\n",
    "else :\n",
    "    print(\"집에갈 차비예요.\")"
   ]
  },
  {
   "cell_type": "code",
   "execution_count": 22,
   "id": "671769af",
   "metadata": {},
   "outputs": [
    {
     "name": "stdout",
     "output_type": "stream",
     "text": [
      "나에겐 5000원 이상이 있다.\n"
     ]
    }
   ],
   "source": [
    "money = 5100\n",
    "if money >= 10000:\n",
    "    print(\"나에겐 10000원 이상이 있다.\")\n",
    "elif money >= 9000:\n",
    "    print(\"나에겐 9000원 이상이 있다.\")\n",
    "elif money >= 5000:\n",
    "    print(\"나에겐 5000원 이상이 있다.\")\n",
    "else :\n",
    "    print(\"집에갈 차비예요.\")"
   ]
  },
  {
   "cell_type": "code",
   "execution_count": 23,
   "id": "7c56a3f3",
   "metadata": {},
   "outputs": [
    {
     "name": "stdout",
     "output_type": "stream",
     "text": [
      "나에겐 5000원 이상이 있다.\n"
     ]
    }
   ],
   "source": [
    "# if - elif - else\n",
    "# 조건이 여러개 일 경우 순서가 중요하다.\n",
    "money = 15000\n",
    "if money >= 5000:\n",
    "    print(\"나에겐 5000원 이상이 있다.\")\n",
    "elif money >= 9000:\n",
    "    print(\"나에겐 9000원 이상이 있다.\")\n",
    "elif money >= 10000:\n",
    "    print(\"나에겐 10000원 이상이 있다.\")\n",
    "else :\n",
    "    print(\"집에갈 차비예요.\")"
   ]
  },
  {
   "cell_type": "code",
   "execution_count": 25,
   "id": "68dacd12",
   "metadata": {},
   "outputs": [
    {
     "name": "stdout",
     "output_type": "stream",
     "text": [
      "나에겐 10000원 이상이 있다.\n",
      "나에겐 9000원 이상이 있다.\n",
      "나에겐 5000원 이상이 있다.\n"
     ]
    }
   ],
   "source": [
    "money = 15000\n",
    "if money >= 10000:\n",
    "    print(\"나에겐 10000원 이상이 있다.\")\n",
    "if money >= 9000:\n",
    "    print(\"나에겐 9000원 이상이 있다.\")\n",
    "if money >= 5000:\n",
    "    print(\"나에겐 5000원 이상이 있다.\")"
   ]
  },
  {
   "cell_type": "code",
   "execution_count": 28,
   "id": "e32f1ec7",
   "metadata": {},
   "outputs": [
    {
     "name": "stdout",
     "output_type": "stream",
     "text": [
      "택시를 타고 가라\n"
     ]
    }
   ],
   "source": [
    "money = 3000\n",
    "card = True\n",
    "if money >= 3000 or card:\n",
    "    print(\"택시를 타고 가라\")\n",
    "else:\n",
    "    print(\"걸어가라\")"
   ]
  },
  {
   "cell_type": "code",
   "execution_count": 29,
   "id": "2945bc58",
   "metadata": {},
   "outputs": [
    {
     "name": "stdout",
     "output_type": "stream",
     "text": [
      "걸어가라\n"
     ]
    }
   ],
   "source": [
    "money = 2000\n",
    "card = False\n",
    "if money >= 3000 or card:\n",
    "    print(\"택시를 타고 가라\")\n",
    "else:\n",
    "    print(\"걸어가라\")"
   ]
  },
  {
   "cell_type": "code",
   "execution_count": 31,
   "id": "a6d2eb33",
   "metadata": {},
   "outputs": [
    {
     "name": "stdout",
     "output_type": "stream",
     "text": [
      "택시를 타고 가라\n"
     ]
    }
   ],
   "source": [
    "money = 2000\n",
    "card = True\n",
    "if money >= 3000 or card:\n",
    "    print(\"택시를 타고 가라\")\n",
    "else:\n",
    "    print(\"걸어가라\")"
   ]
  },
  {
   "cell_type": "code",
   "execution_count": 32,
   "id": "8757b2d5",
   "metadata": {},
   "outputs": [
    {
     "name": "stdout",
     "output_type": "stream",
     "text": [
      "걸어가라\n"
     ]
    }
   ],
   "source": [
    "money = 2000\n",
    "card = False\n",
    "if money >= 3000 and card:\n",
    "    print(\"택시를 타고 가라\")\n",
    "else:\n",
    "    print(\"걸어가라\")"
   ]
  },
  {
   "cell_type": "code",
   "execution_count": 33,
   "id": "2e21ce57",
   "metadata": {},
   "outputs": [
    {
     "name": "stdout",
     "output_type": "stream",
     "text": [
      "걸어가라\n"
     ]
    }
   ],
   "source": [
    "money = 3000\n",
    "card = False\n",
    "if money >= 3000 and card:\n",
    "    print(\"택시를 타고 가라\")\n",
    "else:\n",
    "    print(\"걸어가라\")"
   ]
  },
  {
   "cell_type": "code",
   "execution_count": 34,
   "id": "a8568213",
   "metadata": {},
   "outputs": [
    {
     "name": "stdout",
     "output_type": "stream",
     "text": [
      "택시를 타고 가라\n"
     ]
    }
   ],
   "source": [
    "money = 3000\n",
    "card = True \n",
    "if money >= 3000 and card:\n",
    "    print(\"택시를 타고 가라\")\n",
    "else:\n",
    "    print(\"걸어가라\")"
   ]
  },
  {
   "cell_type": "code",
   "execution_count": 35,
   "id": "e90423cf",
   "metadata": {},
   "outputs": [
    {
     "name": "stdout",
     "output_type": "stream",
     "text": [
      "1 in [1, 2, 3]-> True\n"
     ]
    }
   ],
   "source": [
    "print('1 in [1, 2, 3]->', 1 in [1, 2, 3])"
   ]
  },
  {
   "cell_type": "code",
   "execution_count": 36,
   "id": "9bc9cb74",
   "metadata": {},
   "outputs": [
    {
     "name": "stdout",
     "output_type": "stream",
     "text": [
      "1 not in [1, 2, 3]-> False\n"
     ]
    }
   ],
   "source": [
    "print('1 not in [1, 2, 3]->', 1 not in [1, 2, 3])"
   ]
  },
  {
   "cell_type": "code",
   "execution_count": 37,
   "id": "50037b3a",
   "metadata": {},
   "outputs": [
    {
     "data": {
      "text/plain": [
       "True"
      ]
     },
     "execution_count": 37,
     "metadata": {},
     "output_type": "execute_result"
    }
   ],
   "source": [
    "'a' in ('a', 'b', 'c')"
   ]
  },
  {
   "cell_type": "code",
   "execution_count": 38,
   "id": "8b6e4d21",
   "metadata": {},
   "outputs": [
    {
     "data": {
      "text/plain": [
       "True"
      ]
     },
     "execution_count": 38,
     "metadata": {},
     "output_type": "execute_result"
    }
   ],
   "source": [
    "'j' not in 'python'"
   ]
  },
  {
   "cell_type": "code",
   "execution_count": 39,
   "id": "b13c0203",
   "metadata": {},
   "outputs": [
    {
     "name": "stdout",
     "output_type": "stream",
     "text": [
      "success\n"
     ]
    }
   ],
   "source": [
    "score = 60 \n",
    "if score >= 60:\n",
    "    message = 'success'\n",
    "else:\n",
    "    message = 'fail'\n",
    "    \n",
    "print(message)"
   ]
  },
  {
   "cell_type": "code",
   "execution_count": 40,
   "id": "1a86284c",
   "metadata": {},
   "outputs": [
    {
     "name": "stdout",
     "output_type": "stream",
     "text": [
      "success\n"
     ]
    }
   ],
   "source": [
    "score = 60 \n",
    "message = 'success' if score >= 60 else \"fail\"\n",
    "print(message)"
   ]
  },
  {
   "cell_type": "code",
   "execution_count": 42,
   "id": "de3acf5c",
   "metadata": {},
   "outputs": [
    {
     "name": "stdout",
     "output_type": "stream",
     "text": [
      "나무를 1번 찍었습니다.\n",
      "나무를 2번 찍었습니다.\n",
      "나무를 3번 찍었습니다.\n",
      "나무를 4번 찍었습니다.\n",
      "나무를 5번 찍었습니다.\n",
      "나무 넘어갑니다.\n"
     ]
    }
   ],
   "source": [
    "treeHit = 0\n",
    "while treeHit < 5:\n",
    "    treeHit = treeHit + 1\n",
    "    print(f\"나무를 {treeHit}번 찍었습니다.\")\n",
    "    if treeHit == 5:\n",
    "        print(\"나무 넘어갑니다.\")"
   ]
  },
  {
   "cell_type": "code",
   "execution_count": 45,
   "id": "84fcb988",
   "metadata": {},
   "outputs": [
    {
     "name": "stdout",
     "output_type": "stream",
     "text": [
      "남은 커피의 양은 9 개 입니다\n",
      "남은 커피의 양은 8 개 입니다\n",
      "남은 커피의 양은 7 개 입니다\n",
      "남은 커피의 양은 6 개 입니다\n",
      "남은 커피의 양은 5 개 입니다\n",
      "남은 커피의 양은 4 개 입니다\n",
      "남은 커피의 양은 3 개 입니다\n",
      "남은 커피의 양은 2 개 입니다\n",
      "남은 커피의 양은 1 개 입니다\n",
      "남은 커피의 양은 0 개 입니다\n",
      "커피가 다 떨어졌습니다. 판매를 중지합니다.\n"
     ]
    }
   ],
   "source": [
    "coffee = 10\n",
    "while True:\n",
    "    coffee = coffee - 1\n",
    "    print(\"남은 커피의 양은\", coffee, \"개 입니다\")\n",
    "    if coffee == 0:\n",
    "        print(\"커피가 다 떨어졌습니다. 판매를 중지합니다.\")\n",
    "        break"
   ]
  },
  {
   "cell_type": "code",
   "execution_count": 47,
   "id": "9a8fc775",
   "metadata": {},
   "outputs": [
    {
     "name": "stdout",
     "output_type": "stream",
     "text": [
      "돈을 넣어주세요 : 400\n"
     ]
    },
    {
     "data": {
      "text/plain": [
       "400"
      ]
     },
     "execution_count": 47,
     "metadata": {},
     "output_type": "execute_result"
    }
   ],
   "source": [
    "a = int(input(\"돈을 넣어주세요 : \"))\n",
    "a"
   ]
  },
  {
   "cell_type": "code",
   "execution_count": 48,
   "id": "3f846471",
   "metadata": {},
   "outputs": [
    {
     "name": "stdout",
     "output_type": "stream",
     "text": [
      "돈을 넣어주세요 : 500\n",
      "거스름돈 200 를 주고 커피를 줍니다.\n",
      "돈을 넣어주세요 : 600\n",
      "거스름돈 300 를 주고 커피를 줍니다.\n",
      "돈을 넣어주세요 : 300\n",
      "커피를 줍니다.\n",
      "돈을 넣어주세요 : 0\n",
      "돈을 다시 돌려주고 커피를 주지 않습니다.\n",
      "남은 커피의 양은 2 개 입니다.\n",
      "돈을 넣어주세요 : 700\n",
      "거스름돈 400 를 주고 커피를 줍니다.\n",
      "돈을 넣어주세요 : 500\n",
      "거스름돈 200 를 주고 커피를 줍니다.\n",
      "커피가 다 떨어졌습니다. 판매를 중지합니다.\n"
     ]
    }
   ],
   "source": [
    "coffee = 5\n",
    "while True:\n",
    "    money = int(input(\"돈을 넣어주세요 : \"))\n",
    "    if money == 300:\n",
    "        print(\"커피를 줍니다.\")\n",
    "        coffee = coffee - 1\n",
    "    elif money > 300:\n",
    "        print(\"거스름돈\", (money - 300), \"를 주고 커피를 줍니다.\")\n",
    "        coffee = coffee - 1\n",
    "    else:\n",
    "        print(\"돈을 다시 돌려주고 커피를 주지 않습니다.\")\n",
    "        print(\"남은 커피의 양은\", coffee, \"개 입니다.\")\n",
    "    if coffee == 0:\n",
    "        print(\"커피가 다 떨어졌습니다. 판매를 중지합니다.\")\n",
    "        break"
   ]
  },
  {
   "cell_type": "code",
   "execution_count": 49,
   "id": "7b429151",
   "metadata": {},
   "outputs": [
    {
     "name": "stdout",
     "output_type": "stream",
     "text": [
      "1\n",
      "3\n",
      "5\n",
      "7\n",
      "9\n"
     ]
    }
   ],
   "source": [
    "a = 0\n",
    "while a < 10:\n",
    "    a = a + 1\n",
    "    if a % 2 == 0:\n",
    "        continue\n",
    "    print(a)"
   ]
  },
  {
   "cell_type": "code",
   "execution_count": 51,
   "id": "236e592f",
   "metadata": {},
   "outputs": [
    {
     "name": "stdout",
     "output_type": "stream",
     "text": [
      "자장면 먹고 싶네요\n",
      "1번 반복중 입니다.\n",
      "\n",
      "삼겹살 먹고 싶네요\n",
      "2번 반복중 입니다.\n",
      "\n",
      "광어회 먹고 싶네요\n",
      "3번 반복중 입니다.\n",
      "\n",
      "갈비 먹고 싶네요\n",
      "4번 반복중 입니다.\n",
      "\n",
      "반복문 끝났습니다.\n"
     ]
    }
   ],
   "source": [
    "test_list = ['자장면', '삼겹살', '광어회', '갈비']\n",
    "cnt = 0\n",
    "for i in test_list:\n",
    "    cnt += 1\n",
    "    print(i, \"먹고 싶네요\")\n",
    "    print(f'{cnt}번 반복중 입니다.\\n')\n",
    "print('반복문 끝났습니다.')"
   ]
  },
  {
   "cell_type": "code",
   "execution_count": 52,
   "id": "ca7d42ba",
   "metadata": {},
   "outputs": [
    {
     "name": "stdout",
     "output_type": "stream",
     "text": [
      "자장면 먹고 싶네요\n",
      "1번 반복중 입니다.\n",
      "\n",
      "삼겹살 먹고 싶네요\n",
      "2번 반복중 입니다.\n",
      "\n",
      "광어회 먹고 싶네요\n",
      "3번 반복중 입니다.\n",
      "\n",
      "갈비 먹고 싶네요\n",
      "4번 반복중 입니다.\n",
      "\n",
      "반복문 끝났습니다.\n"
     ]
    }
   ],
   "source": [
    "test_tup = ('자장면', '삼겹살', '광어회', '갈비')\n",
    "cnt = 0\n",
    "for i in test_tup:\n",
    "    cnt += 1\n",
    "    print(i, \"먹고 싶네요\")\n",
    "    print(f'{cnt}번 반복중 입니다.\\n')\n",
    "print('반복문 끝났습니다.')"
   ]
  },
  {
   "cell_type": "code",
   "execution_count": 54,
   "id": "fcfd464e",
   "metadata": {},
   "outputs": [
    {
     "name": "stdout",
     "output_type": "stream",
     "text": [
      "p\n",
      "y\n",
      "t\n",
      "h\n",
      "o\n",
      "n\n"
     ]
    }
   ],
   "source": [
    "test = 'python'\n",
    "for i in test:\n",
    "    print(i)"
   ]
  },
  {
   "cell_type": "code",
   "execution_count": 55,
   "id": "4faf23a3",
   "metadata": {},
   "outputs": [
    {
     "name": "stdout",
     "output_type": "stream",
     "text": [
      "3\n",
      "7\n",
      "11\n"
     ]
    }
   ],
   "source": [
    "a = [(1, 2), (3, 4), (5, 6)]\n",
    "for (first, last) in a:\n",
    "    print(first + last)"
   ]
  },
  {
   "cell_type": "code",
   "execution_count": 56,
   "id": "82882e47",
   "metadata": {},
   "outputs": [],
   "source": [
    "marks = [90, 25, 67, 45, 80]"
   ]
  },
  {
   "cell_type": "code",
   "execution_count": 60,
   "id": "83ff9bd4",
   "metadata": {},
   "outputs": [
    {
     "name": "stdout",
     "output_type": "stream",
     "text": [
      "1 번째 학생은  90 점으로 합격입니다.\n",
      "2 번째 학생은  25 점으로 불합격입니다.\n",
      "3 번째 학생은  67 점으로 합격입니다.\n",
      "4 번째 학생은  45 점으로 불합격입니다.\n",
      "5 번째 학생은  80 점으로 합격입니다.\n"
     ]
    }
   ],
   "source": [
    "n = 0\n",
    "for i in marks: \n",
    "    n = n + 1\n",
    "    if i >= 60 :\n",
    "        print(n,\"번째 학생은 \", i,\"점으로 합격입니다.\")\n",
    "    else :\n",
    "        print(n,\"번째 학생은 \", i, \"점으로 불합격입니다.\")"
   ]
  },
  {
   "cell_type": "code",
   "execution_count": 65,
   "id": "2157c4eb",
   "metadata": {},
   "outputs": [
    {
     "name": "stdout",
     "output_type": "stream",
     "text": [
      "1 학생 축하합니다. 합격입니다. \n",
      "2번 학생 불합격입니다. \n",
      "3 학생 축하합니다. 합격입니다. \n",
      "4번 학생 불합격입니다. \n",
      "5 학생 축하합니다. 합격입니다. \n"
     ]
    }
   ],
   "source": [
    "marks = [90, 25, 67, 45, 80]\n",
    "\n",
    "number = 0\n",
    "for mark in marks:\n",
    "    number = number + 1\n",
    "    if mark < 60:\n",
    "        print('%d번 학생 불합격입니다. ' % number)\n",
    "        continue\n",
    "    print('%d 학생 축하합니다. 합격입니다. ' % number)"
   ]
  },
  {
   "cell_type": "code",
   "execution_count": 66,
   "id": "e80198fe",
   "metadata": {},
   "outputs": [
    {
     "name": "stdout",
     "output_type": "stream",
     "text": [
      "45\n"
     ]
    }
   ],
   "source": [
    "lst = [0, 1, 2, 3, 4, 5, 6, 7, 8, 9]\n",
    "sum_ = 0\n",
    "for i in lst:\n",
    "    sum_ = sum_ + i\n",
    "print(sum_)"
   ]
  },
  {
   "cell_type": "code",
   "execution_count": 67,
   "id": "3924170d",
   "metadata": {},
   "outputs": [
    {
     "data": {
      "text/plain": [
       "range(0, 10)"
      ]
     },
     "execution_count": 67,
     "metadata": {},
     "output_type": "execute_result"
    }
   ],
   "source": [
    "# range(시작값(0일 경우 생략가능), 끝값 -1, 간격(1일 경우 생략 가능))\n",
    "range(10)   # range(0,10,1)"
   ]
  },
  {
   "cell_type": "code",
   "execution_count": 68,
   "id": "48844a71",
   "metadata": {},
   "outputs": [
    {
     "data": {
      "text/plain": [
       "[0, 1, 2, 3, 4, 5, 6, 7, 8, 9]"
      ]
     },
     "execution_count": 68,
     "metadata": {},
     "output_type": "execute_result"
    }
   ],
   "source": [
    "list(range(10))\n",
    "# range(시작값(0일 경우 생략가능), 끝값 -1, 간격(1일 경우 생략 가능))"
   ]
  },
  {
   "cell_type": "code",
   "execution_count": 69,
   "id": "a52abf54",
   "metadata": {},
   "outputs": [
    {
     "data": {
      "text/plain": [
       "[2, 4, 6, 8, 10, 12]"
      ]
     },
     "execution_count": 69,
     "metadata": {},
     "output_type": "execute_result"
    }
   ],
   "source": [
    "list(range(2, 13, 2))"
   ]
  },
  {
   "cell_type": "code",
   "execution_count": 70,
   "id": "f2d09f31",
   "metadata": {},
   "outputs": [
    {
     "data": {
      "text/plain": [
       "[10, 9, 8, 7, 6, 5, 4, 3, 2, 1]"
      ]
     },
     "execution_count": 70,
     "metadata": {},
     "output_type": "execute_result"
    }
   ],
   "source": [
    "list(range(10, 0 , -1))   # 10부터 0전까지 1씩 감소 "
   ]
  },
  {
   "cell_type": "code",
   "execution_count": 71,
   "id": "7ba95246",
   "metadata": {},
   "outputs": [
    {
     "name": "stdout",
     "output_type": "stream",
     "text": [
      "45\n"
     ]
    }
   ],
   "source": [
    "sum_ = 0\n",
    "for i in range(10):\n",
    "    sum_ = sum_ + i\n",
    "print(sum_)"
   ]
  },
  {
   "cell_type": "code",
   "execution_count": 72,
   "id": "f9819289",
   "metadata": {},
   "outputs": [
    {
     "data": {
      "text/plain": [
       "range(40, 47)"
      ]
     },
     "execution_count": 72,
     "metadata": {},
     "output_type": "execute_result"
    }
   ],
   "source": [
    "range(40,47)"
   ]
  },
  {
   "cell_type": "code",
   "execution_count": 73,
   "id": "ae7676d1",
   "metadata": {},
   "outputs": [
    {
     "name": "stdout",
     "output_type": "stream",
     "text": [
      "2x1 = 2 2x2 = 4 2x3 = 6 2x4 = 8 2x5 = 10 2x6 = 12 2x7 = 14 2x8 = 16 2x9 = 18 \n",
      "3x1 = 3 3x2 = 6 3x3 = 9 3x4 = 12 3x5 = 15 3x6 = 18 3x7 = 21 3x8 = 24 3x9 = 27 \n",
      "4x1 = 4 4x2 = 8 4x3 = 12 4x4 = 16 4x5 = 20 4x6 = 24 4x7 = 28 4x8 = 32 4x9 = 36 \n",
      "5x1 = 5 5x2 = 10 5x3 = 15 5x4 = 20 5x5 = 25 5x6 = 30 5x7 = 35 5x8 = 40 5x9 = 45 \n",
      "6x1 = 6 6x2 = 12 6x3 = 18 6x4 = 24 6x5 = 30 6x6 = 36 6x7 = 42 6x8 = 48 6x9 = 54 \n",
      "7x1 = 7 7x2 = 14 7x3 = 21 7x4 = 28 7x5 = 35 7x6 = 42 7x7 = 49 7x8 = 56 7x9 = 63 \n",
      "8x1 = 8 8x2 = 16 8x3 = 24 8x4 = 32 8x5 = 40 8x6 = 48 8x7 = 56 8x8 = 64 8x9 = 72 \n",
      "9x1 = 9 9x2 = 18 9x3 = 27 9x4 = 36 9x5 = 45 9x6 = 54 9x7 = 63 9x8 = 72 9x9 = 81 \n"
     ]
    }
   ],
   "source": [
    "for i in range(2, 10):   #1번 for문\n",
    "    for j in range(1, 10):   #2번 for문\n",
    "        print(f'{i}x{j} = {i*j}', end = \" \")\n",
    "    print('')"
   ]
  },
  {
   "cell_type": "code",
   "execution_count": null,
   "id": "9d8bc07c",
   "metadata": {},
   "outputs": [],
   "source": []
  }
 ],
 "metadata": {
  "kernelspec": {
   "display_name": "Python 3 (ipykernel)",
   "language": "python",
   "name": "python3"
  },
  "language_info": {
   "codemirror_mode": {
    "name": "ipython",
    "version": 3
   },
   "file_extension": ".py",
   "mimetype": "text/x-python",
   "name": "python",
   "nbconvert_exporter": "python",
   "pygments_lexer": "ipython3",
   "version": "3.11.3"
  }
 },
 "nbformat": 4,
 "nbformat_minor": 5
}
