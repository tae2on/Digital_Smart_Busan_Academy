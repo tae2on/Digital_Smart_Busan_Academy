{
 "cells": [
  {
   "cell_type": "code",
   "execution_count": 1,
   "id": "610051d0",
   "metadata": {},
   "outputs": [],
   "source": [
    "f = open('새파일.txt', 'w')\n",
    "f.close()"
   ]
  },
  {
   "cell_type": "code",
   "execution_count": 3,
   "id": "e45166d3",
   "metadata": {},
   "outputs": [],
   "source": [
    "f = open('C:/doit/새파일.txt', 'w')\n",
    "f.close()"
   ]
  },
  {
   "cell_type": "code",
   "execution_count": 4,
   "id": "d936c481",
   "metadata": {},
   "outputs": [
    {
     "name": "stdout",
     "output_type": "stream",
     "text": [
      "C:\n",
      "ote\test.txt\n"
     ]
    }
   ],
   "source": [
    "print('C:\\note\\test.txt')"
   ]
  },
  {
   "cell_type": "code",
   "execution_count": 5,
   "id": "cad6af5c",
   "metadata": {},
   "outputs": [
    {
     "name": "stdout",
     "output_type": "stream",
     "text": [
      "C:\\note\\test.txt\n"
     ]
    }
   ],
   "source": [
    "print('C:\\\\note\\\\test.txt')"
   ]
  },
  {
   "cell_type": "code",
   "execution_count": 6,
   "id": "9988010c",
   "metadata": {},
   "outputs": [
    {
     "name": "stdout",
     "output_type": "stream",
     "text": [
      "C:\\note\\test.txt\n"
     ]
    }
   ],
   "source": [
    "print(r'C:\\note\\test.txt')"
   ]
  },
  {
   "cell_type": "code",
   "execution_count": 8,
   "id": "793e4dbe",
   "metadata": {},
   "outputs": [],
   "source": [
    "f = open('C:/doit/새파일.txt', 'w')\n",
    "for i in range(1,11):\n",
    "    data = \"%d번째 줄입니다. \\n\" %i\n",
    "    f.write(data)\n",
    "f.close()"
   ]
  },
  {
   "cell_type": "code",
   "execution_count": 9,
   "id": "f702c1c5",
   "metadata": {},
   "outputs": [
    {
     "name": "stdout",
     "output_type": "stream",
     "text": [
      "1번째 줄입니다. \n",
      "\n"
     ]
    }
   ],
   "source": [
    "# 파일 읽기\n",
    "f = open('C:/doit/새파일.txt', 'r')\n",
    "line = f.readline()\n",
    "print(line)\n",
    "f.close()"
   ]
  },
  {
   "cell_type": "code",
   "execution_count": 10,
   "id": "109c27fb",
   "metadata": {},
   "outputs": [],
   "source": [
    "f = open('C:/doit/새파일.txt', 'r')"
   ]
  },
  {
   "cell_type": "code",
   "execution_count": 11,
   "id": "89034a54",
   "metadata": {},
   "outputs": [
    {
     "name": "stdout",
     "output_type": "stream",
     "text": [
      "1번째 줄입니다. \n",
      "\n"
     ]
    }
   ],
   "source": [
    "line = f.readline()\n",
    "print(line)"
   ]
  },
  {
   "cell_type": "code",
   "execution_count": 12,
   "id": "830322dc",
   "metadata": {},
   "outputs": [
    {
     "name": "stdout",
     "output_type": "stream",
     "text": [
      "2번째 줄입니다. \n",
      "\n"
     ]
    }
   ],
   "source": [
    "line = f.readline()\n",
    "print(line)"
   ]
  },
  {
   "cell_type": "code",
   "execution_count": 13,
   "id": "13a69aa3",
   "metadata": {},
   "outputs": [
    {
     "name": "stdout",
     "output_type": "stream",
     "text": [
      "3번째 줄입니다. \n",
      "\n"
     ]
    }
   ],
   "source": [
    "line = f.readline()\n",
    "print(line)"
   ]
  },
  {
   "cell_type": "code",
   "execution_count": 14,
   "id": "f031f2a8",
   "metadata": {},
   "outputs": [],
   "source": [
    "f.close()"
   ]
  },
  {
   "cell_type": "code",
   "execution_count": 15,
   "id": "94c6e375",
   "metadata": {},
   "outputs": [
    {
     "name": "stdout",
     "output_type": "stream",
     "text": [
      "1번째 줄입니다. \n",
      "\n",
      "2번째 줄입니다. \n",
      "\n",
      "3번째 줄입니다. \n",
      "\n",
      "4번째 줄입니다. \n",
      "\n",
      "5번째 줄입니다. \n",
      "\n",
      "6번째 줄입니다. \n",
      "\n",
      "7번째 줄입니다. \n",
      "\n",
      "8번째 줄입니다. \n",
      "\n",
      "9번째 줄입니다. \n",
      "\n",
      "10번째 줄입니다. \n",
      "\n"
     ]
    }
   ],
   "source": [
    "f = open('C:/doit/새파일.txt', 'r')\n",
    "while True:\n",
    "    line = f.readline()\n",
    "    if not line:\n",
    "        break\n",
    "    print(line)\n",
    "f.close()"
   ]
  },
  {
   "cell_type": "code",
   "execution_count": 16,
   "id": "ec1fbe1f",
   "metadata": {},
   "outputs": [],
   "source": [
    "f = open('C:/doit/새파일.txt', 'r')\n",
    "lines = f.readlines()\n",
    "lines\n",
    "f.close()"
   ]
  },
  {
   "cell_type": "code",
   "execution_count": 17,
   "id": "be4d3764",
   "metadata": {},
   "outputs": [
    {
     "data": {
      "text/plain": [
       "['1번째 줄입니다. \\n',\n",
       " '2번째 줄입니다. \\n',\n",
       " '3번째 줄입니다. \\n',\n",
       " '4번째 줄입니다. \\n',\n",
       " '5번째 줄입니다. \\n',\n",
       " '6번째 줄입니다. \\n',\n",
       " '7번째 줄입니다. \\n',\n",
       " '8번째 줄입니다. \\n',\n",
       " '9번째 줄입니다. \\n',\n",
       " '10번째 줄입니다. \\n']"
      ]
     },
     "execution_count": 17,
     "metadata": {},
     "output_type": "execute_result"
    }
   ],
   "source": [
    "lines"
   ]
  },
  {
   "cell_type": "code",
   "execution_count": 18,
   "id": "9d786a59",
   "metadata": {},
   "outputs": [
    {
     "name": "stdout",
     "output_type": "stream",
     "text": [
      "1번째 줄입니다. \n",
      "\n",
      "2번째 줄입니다. \n",
      "\n",
      "3번째 줄입니다. \n",
      "\n",
      "4번째 줄입니다. \n",
      "\n",
      "5번째 줄입니다. \n",
      "\n",
      "6번째 줄입니다. \n",
      "\n",
      "7번째 줄입니다. \n",
      "\n",
      "8번째 줄입니다. \n",
      "\n",
      "9번째 줄입니다. \n",
      "\n",
      "10번째 줄입니다. \n",
      "\n"
     ]
    }
   ],
   "source": [
    "for txt in lines:\n",
    "    print(txt)"
   ]
  },
  {
   "cell_type": "code",
   "execution_count": 20,
   "id": "5e688e54",
   "metadata": {},
   "outputs": [],
   "source": [
    "# 내용 추가 \n",
    "f = open('C:/doit/새파일.txt', 'a')\n",
    "for i in range(11, 21):\n",
    "    data = '%d번째 줄입니다. \\n' %i\n",
    "    f.write(data)\n",
    "f.close()"
   ]
  },
  {
   "cell_type": "code",
   "execution_count": 21,
   "id": "af3511db",
   "metadata": {},
   "outputs": [],
   "source": [
    "with open('foo.txt', 'w') as f:\n",
    "    f.write('Life is too short, you need python')"
   ]
  },
  {
   "cell_type": "code",
   "execution_count": null,
   "id": "931f486f",
   "metadata": {},
   "outputs": [],
   "source": []
  }
 ],
 "metadata": {
  "kernelspec": {
   "display_name": "Python 3 (ipykernel)",
   "language": "python",
   "name": "python3"
  },
  "language_info": {
   "codemirror_mode": {
    "name": "ipython",
    "version": 3
   },
   "file_extension": ".py",
   "mimetype": "text/x-python",
   "name": "python",
   "nbconvert_exporter": "python",
   "pygments_lexer": "ipython3",
   "version": "3.11.3"
  }
 },
 "nbformat": 4,
 "nbformat_minor": 5
}
