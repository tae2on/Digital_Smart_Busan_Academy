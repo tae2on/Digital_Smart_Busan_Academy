{
 "cells": [
  {
   "cell_type": "code",
   "execution_count": 1,
   "id": "927e919e",
   "metadata": {},
   "outputs": [],
   "source": [
    "result = 0\n",
    "def add(num):\n",
    "    global result\n",
    "    result = num + result\n",
    "    return result"
   ]
  },
  {
   "cell_type": "code",
   "execution_count": 2,
   "id": "d3656512",
   "metadata": {},
   "outputs": [
    {
     "data": {
      "text/plain": [
       "4"
      ]
     },
     "execution_count": 2,
     "metadata": {},
     "output_type": "execute_result"
    }
   ],
   "source": [
    "add(4)"
   ]
  },
  {
   "cell_type": "code",
   "execution_count": 3,
   "id": "804ea619",
   "metadata": {},
   "outputs": [
    {
     "data": {
      "text/plain": [
       "4"
      ]
     },
     "execution_count": 3,
     "metadata": {},
     "output_type": "execute_result"
    }
   ],
   "source": [
    "result"
   ]
  },
  {
   "cell_type": "code",
   "execution_count": 4,
   "id": "4b7cdfaa",
   "metadata": {},
   "outputs": [
    {
     "data": {
      "text/plain": [
       "9"
      ]
     },
     "execution_count": 4,
     "metadata": {},
     "output_type": "execute_result"
    }
   ],
   "source": [
    "add(5)"
   ]
  },
  {
   "cell_type": "code",
   "execution_count": 5,
   "id": "31473410",
   "metadata": {},
   "outputs": [],
   "source": [
    "result = 0\n",
    "def dp_add(num):\n",
    "    global result\n",
    "    result = num + result\n",
    "    return result"
   ]
  },
  {
   "cell_type": "code",
   "execution_count": 6,
   "id": "8949d6de",
   "metadata": {},
   "outputs": [
    {
     "data": {
      "text/plain": [
       "5"
      ]
     },
     "execution_count": 6,
     "metadata": {},
     "output_type": "execute_result"
    }
   ],
   "source": [
    "dp_add(5)"
   ]
  },
  {
   "cell_type": "code",
   "execution_count": 7,
   "id": "404b143a",
   "metadata": {},
   "outputs": [
    {
     "data": {
      "text/plain": [
       "8"
      ]
     },
     "execution_count": 7,
     "metadata": {},
     "output_type": "execute_result"
    }
   ],
   "source": [
    "dp_add(3)"
   ]
  },
  {
   "cell_type": "code",
   "execution_count": 8,
   "id": "e1a578f8",
   "metadata": {},
   "outputs": [
    {
     "data": {
      "text/plain": [
       "11"
      ]
     },
     "execution_count": 8,
     "metadata": {},
     "output_type": "execute_result"
    }
   ],
   "source": [
    "dp_add(3)"
   ]
  },
  {
   "cell_type": "code",
   "execution_count": 9,
   "id": "6281ac8f",
   "metadata": {},
   "outputs": [],
   "source": [
    "sk_result = 0\n",
    "def sk_add(num):\n",
    "    global sk_result\n",
    "    sk_result = num + sk_result\n",
    "    return sk_result"
   ]
  },
  {
   "cell_type": "code",
   "execution_count": 10,
   "id": "f19f0a4b",
   "metadata": {},
   "outputs": [],
   "source": [
    "class 순이익:\n",
    "    def 매장별_순이익():\n",
    "        순이익값 = (n월_카드매출 + n월_현금매출) - 인건비 - 월세 - 전기세 - 재료비"
   ]
  },
  {
   "cell_type": "code",
   "execution_count": 11,
   "id": "b716c582",
   "metadata": {},
   "outputs": [],
   "source": [
    "# 클래스를 이용하여아무 기능 없는 cookie라는 쿠키 틀을 만듬\n",
    "class Cookie:\n",
    "    pass"
   ]
  },
  {
   "cell_type": "code",
   "execution_count": 12,
   "id": "cf8cc708",
   "metadata": {},
   "outputs": [],
   "source": [
    "a = Cookie()   # a라는 쿠키(객체) 생성\n",
    "b = Cookie()   # b라는 쿠키(객체) 생성"
   ]
  },
  {
   "cell_type": "code",
   "execution_count": 13,
   "id": "9625111c",
   "metadata": {},
   "outputs": [],
   "source": [
    "# 클래스 만들기\n",
    "class FourCal:\n",
    "    pass"
   ]
  },
  {
   "cell_type": "code",
   "execution_count": 14,
   "id": "9e11580d",
   "metadata": {},
   "outputs": [
    {
     "data": {
      "text/plain": [
       "__main__.FourCal"
      ]
     },
     "execution_count": 14,
     "metadata": {},
     "output_type": "execute_result"
    }
   ],
   "source": [
    "a = FourCal()\n",
    "type(a)"
   ]
  },
  {
   "cell_type": "code",
   "execution_count": 16,
   "id": "ca9159b2",
   "metadata": {},
   "outputs": [],
   "source": [
    "#setdata 함수 추가 \n",
    "class FourCal:\n",
    "    def setdata(self, first, second):\n",
    "        self.first = first\n",
    "        self.second = second"
   ]
  },
  {
   "cell_type": "code",
   "execution_count": 18,
   "id": "68f9719c",
   "metadata": {},
   "outputs": [],
   "source": [
    "a = FourCal()"
   ]
  },
  {
   "cell_type": "code",
   "execution_count": 19,
   "id": "6d503f6e",
   "metadata": {},
   "outputs": [],
   "source": [
    "a.setdata(3,5)"
   ]
  },
  {
   "cell_type": "code",
   "execution_count": 20,
   "id": "6bed73dd",
   "metadata": {},
   "outputs": [
    {
     "data": {
      "text/plain": [
       "3"
      ]
     },
     "execution_count": 20,
     "metadata": {},
     "output_type": "execute_result"
    }
   ],
   "source": [
    "a.first"
   ]
  },
  {
   "cell_type": "code",
   "execution_count": 21,
   "id": "75ad2948",
   "metadata": {},
   "outputs": [
    {
     "data": {
      "text/plain": [
       "5"
      ]
     },
     "execution_count": 21,
     "metadata": {},
     "output_type": "execute_result"
    }
   ],
   "source": [
    "a.second"
   ]
  },
  {
   "cell_type": "code",
   "execution_count": 22,
   "id": "f7fb7cf6",
   "metadata": {},
   "outputs": [],
   "source": [
    "b = FourCal()"
   ]
  },
  {
   "cell_type": "code",
   "execution_count": 24,
   "id": "5d75e883",
   "metadata": {},
   "outputs": [
    {
     "ename": "AttributeError",
     "evalue": "'FourCal' object has no attribute 'first'",
     "output_type": "error",
     "traceback": [
      "\u001b[1;31m---------------------------------------------------------------------------\u001b[0m",
      "\u001b[1;31mAttributeError\u001b[0m                            Traceback (most recent call last)",
      "Cell \u001b[1;32mIn[24], line 1\u001b[0m\n\u001b[1;32m----> 1\u001b[0m b\u001b[38;5;241m.\u001b[39mfirst\n",
      "\u001b[1;31mAttributeError\u001b[0m: 'FourCal' object has no attribute 'first'"
     ]
    }
   ],
   "source": [
    "b.first   # 객체 a와는 다른 객체이기 때문에 first 없음"
   ]
  },
  {
   "cell_type": "code",
   "execution_count": 25,
   "id": "a5d44e54",
   "metadata": {},
   "outputs": [],
   "source": [
    "class FourCal:\n",
    "    def setdata(self, first, second):\n",
    "        self.first = first\n",
    "        self.second = second\n",
    "        \n",
    "    def add(self):\n",
    "        result = self.first + self.second\n",
    "        return result"
   ]
  },
  {
   "cell_type": "code",
   "execution_count": 26,
   "id": "5d94f697",
   "metadata": {},
   "outputs": [],
   "source": [
    "a = FourCal()"
   ]
  },
  {
   "cell_type": "code",
   "execution_count": 27,
   "id": "7e328bfb",
   "metadata": {},
   "outputs": [
    {
     "ename": "AttributeError",
     "evalue": "'FourCal' object has no attribute 'first'",
     "output_type": "error",
     "traceback": [
      "\u001b[1;31m---------------------------------------------------------------------------\u001b[0m",
      "\u001b[1;31mAttributeError\u001b[0m                            Traceback (most recent call last)",
      "Cell \u001b[1;32mIn[27], line 1\u001b[0m\n\u001b[1;32m----> 1\u001b[0m a\u001b[38;5;241m.\u001b[39madd()\n",
      "Cell \u001b[1;32mIn[25], line 7\u001b[0m, in \u001b[0;36mFourCal.add\u001b[1;34m(self)\u001b[0m\n\u001b[0;32m      6\u001b[0m \u001b[38;5;28;01mdef\u001b[39;00m \u001b[38;5;21madd\u001b[39m(\u001b[38;5;28mself\u001b[39m):\n\u001b[1;32m----> 7\u001b[0m     result \u001b[38;5;241m=\u001b[39m \u001b[38;5;28mself\u001b[39m\u001b[38;5;241m.\u001b[39mfirst \u001b[38;5;241m+\u001b[39m \u001b[38;5;28mself\u001b[39m\u001b[38;5;241m.\u001b[39msecond\n\u001b[0;32m      8\u001b[0m     \u001b[38;5;28;01mreturn\u001b[39;00m result\n",
      "\u001b[1;31mAttributeError\u001b[0m: 'FourCal' object has no attribute 'first'"
     ]
    }
   ],
   "source": [
    "a.add()"
   ]
  },
  {
   "cell_type": "code",
   "execution_count": 28,
   "id": "1ccc4dcc",
   "metadata": {},
   "outputs": [],
   "source": [
    "a.setdata(5, 7)"
   ]
  },
  {
   "cell_type": "code",
   "execution_count": 29,
   "id": "bf492d25",
   "metadata": {},
   "outputs": [
    {
     "data": {
      "text/plain": [
       "5"
      ]
     },
     "execution_count": 29,
     "metadata": {},
     "output_type": "execute_result"
    }
   ],
   "source": [
    "a.first"
   ]
  },
  {
   "cell_type": "code",
   "execution_count": 30,
   "id": "3933a1c9",
   "metadata": {},
   "outputs": [
    {
     "data": {
      "text/plain": [
       "7"
      ]
     },
     "execution_count": 30,
     "metadata": {},
     "output_type": "execute_result"
    }
   ],
   "source": [
    "a.second"
   ]
  },
  {
   "cell_type": "code",
   "execution_count": 31,
   "id": "da5511de",
   "metadata": {},
   "outputs": [
    {
     "data": {
      "text/plain": [
       "12"
      ]
     },
     "execution_count": 31,
     "metadata": {},
     "output_type": "execute_result"
    }
   ],
   "source": [
    "a.add()"
   ]
  },
  {
   "cell_type": "code",
   "execution_count": 65,
   "id": "6682ed31",
   "metadata": {},
   "outputs": [],
   "source": [
    "class FourCal:\n",
    "    def setdata(self, first, second):\n",
    "        self.first = first\n",
    "        self.second = second\n",
    "       \n",
    "    def add(self):\n",
    "        result = self.first + self.second\n",
    "        return result\n",
    "    \n",
    "    def mul(self):\n",
    "        result = self.first * self.second\n",
    "        return result\n",
    "    \n",
    "    def sub(self):\n",
    "        result = self.first - self.second\n",
    "        return result\n",
    "    \n",
    "    def div(self):\n",
    "        result = self.first / self.second\n",
    "        return result    "
   ]
  },
  {
   "cell_type": "code",
   "execution_count": 66,
   "id": "9808cd9e",
   "metadata": {},
   "outputs": [],
   "source": [
    "a = FourCal()"
   ]
  },
  {
   "cell_type": "code",
   "execution_count": 67,
   "id": "5545420c",
   "metadata": {},
   "outputs": [],
   "source": [
    "a.setdata(3, 4)"
   ]
  },
  {
   "cell_type": "code",
   "execution_count": 68,
   "id": "016be0db",
   "metadata": {},
   "outputs": [
    {
     "data": {
      "text/plain": [
       "7"
      ]
     },
     "execution_count": 68,
     "metadata": {},
     "output_type": "execute_result"
    }
   ],
   "source": [
    "a.add()"
   ]
  },
  {
   "cell_type": "code",
   "execution_count": 69,
   "id": "c14d3a6b",
   "metadata": {},
   "outputs": [
    {
     "data": {
      "text/plain": [
       "12"
      ]
     },
     "execution_count": 69,
     "metadata": {},
     "output_type": "execute_result"
    }
   ],
   "source": [
    "a.mul()"
   ]
  },
  {
   "cell_type": "code",
   "execution_count": 70,
   "id": "9121f9b9",
   "metadata": {},
   "outputs": [
    {
     "data": {
      "text/plain": [
       "-1"
      ]
     },
     "execution_count": 70,
     "metadata": {},
     "output_type": "execute_result"
    }
   ],
   "source": [
    "a.sub()"
   ]
  },
  {
   "cell_type": "code",
   "execution_count": 71,
   "id": "d76f6fef",
   "metadata": {},
   "outputs": [],
   "source": [
    "b = FourCal()"
   ]
  },
  {
   "cell_type": "code",
   "execution_count": 72,
   "id": "7da79abe",
   "metadata": {},
   "outputs": [],
   "source": [
    "b.setdata(70, 20)"
   ]
  },
  {
   "cell_type": "code",
   "execution_count": 73,
   "id": "7be1b8b4",
   "metadata": {},
   "outputs": [
    {
     "data": {
      "text/plain": [
       "90"
      ]
     },
     "execution_count": 73,
     "metadata": {},
     "output_type": "execute_result"
    }
   ],
   "source": [
    "b.add()"
   ]
  },
  {
   "cell_type": "code",
   "execution_count": 74,
   "id": "25770cf8",
   "metadata": {},
   "outputs": [
    {
     "data": {
      "text/plain": [
       "1400"
      ]
     },
     "execution_count": 74,
     "metadata": {},
     "output_type": "execute_result"
    }
   ],
   "source": [
    "b.mul()"
   ]
  },
  {
   "cell_type": "code",
   "execution_count": 75,
   "id": "1d3b89e2",
   "metadata": {},
   "outputs": [
    {
     "data": {
      "text/plain": [
       "50"
      ]
     },
     "execution_count": 75,
     "metadata": {},
     "output_type": "execute_result"
    }
   ],
   "source": [
    "b.sub()"
   ]
  },
  {
   "cell_type": "code",
   "execution_count": 76,
   "id": "391dc342",
   "metadata": {},
   "outputs": [
    {
     "data": {
      "text/plain": [
       "3.5"
      ]
     },
     "execution_count": 76,
     "metadata": {},
     "output_type": "execute_result"
    }
   ],
   "source": [
    "b.div()"
   ]
  },
  {
   "cell_type": "code",
   "execution_count": 77,
   "id": "74a0d5d8",
   "metadata": {},
   "outputs": [],
   "source": [
    "class FourCal:\n",
    "    def __init__(self, first, second):\n",
    "        # 파이썬 메서드 이름으로 __init__를 사용하면 이 메서드는 생성자가 된다.\n",
    "        self.first = first\n",
    "        self.second = second\n",
    "    \n",
    "    def setdata(self, first, second):\n",
    "        self.first = first\n",
    "        self.second = second\n",
    "        \n",
    "    def add(self):\n",
    "        result = self.first + self.second\n",
    "        return result\n",
    "    \n",
    "    def mul(self):\n",
    "        result = self.first * self.second\n",
    "        return result\n",
    "    \n",
    "    def sub(self):\n",
    "        result = self.first - self.second\n",
    "        return result\n",
    "    \n",
    "    def div(self):\n",
    "        result = self.first / self.second\n",
    "        return result    "
   ]
  },
  {
   "cell_type": "code",
   "execution_count": 78,
   "id": "79b75d6b",
   "metadata": {},
   "outputs": [],
   "source": [
    "a = FourCal(8, 2)"
   ]
  },
  {
   "cell_type": "code",
   "execution_count": 79,
   "id": "9cd1dd9d",
   "metadata": {},
   "outputs": [
    {
     "data": {
      "text/plain": [
       "10"
      ]
     },
     "execution_count": 79,
     "metadata": {},
     "output_type": "execute_result"
    }
   ],
   "source": [
    "a.add()"
   ]
  },
  {
   "cell_type": "code",
   "execution_count": 80,
   "id": "c8c2b58c",
   "metadata": {},
   "outputs": [],
   "source": [
    "class FourCal:\n",
    "    def __init__(self, first=0, second=0):   # 파이썬 메서드 이름으로 __init__를 사용하면 이 메서드는 생성자가 된다.\n",
    "        self.first = first\n",
    "        self.second = second\n",
    "    \n",
    "    def setdata(self, first, second):\n",
    "        self.first = first\n",
    "        self.second = second\n",
    "        \n",
    "    def add(self):\n",
    "        result = self.first + self.second\n",
    "        return result\n",
    "    \n",
    "    def mul(self):\n",
    "        result = self.first * self.second\n",
    "        return result\n",
    "    \n",
    "    def sub(self):\n",
    "        result = self.first - self.second\n",
    "        return result\n",
    "    \n",
    "    def div(self):\n",
    "        result = self.first / self.second\n",
    "        return result    "
   ]
  },
  {
   "cell_type": "code",
   "execution_count": 81,
   "id": "88c29277",
   "metadata": {},
   "outputs": [],
   "source": [
    "b = FourCal()"
   ]
  },
  {
   "cell_type": "code",
   "execution_count": 82,
   "id": "7d96027e",
   "metadata": {},
   "outputs": [
    {
     "data": {
      "text/plain": [
       "0"
      ]
     },
     "execution_count": 82,
     "metadata": {},
     "output_type": "execute_result"
    }
   ],
   "source": [
    "b.first"
   ]
  },
  {
   "cell_type": "code",
   "execution_count": 83,
   "id": "7b46b653",
   "metadata": {},
   "outputs": [
    {
     "data": {
      "text/plain": [
       "0"
      ]
     },
     "execution_count": 83,
     "metadata": {},
     "output_type": "execute_result"
    }
   ],
   "source": [
    "b.second"
   ]
  },
  {
   "cell_type": "code",
   "execution_count": 84,
   "id": "5dfd83c4",
   "metadata": {},
   "outputs": [],
   "source": [
    "b.setdata(70, 200)"
   ]
  },
  {
   "cell_type": "code",
   "execution_count": 85,
   "id": "cfec8cf0",
   "metadata": {},
   "outputs": [
    {
     "data": {
      "text/plain": [
       "70"
      ]
     },
     "execution_count": 85,
     "metadata": {},
     "output_type": "execute_result"
    }
   ],
   "source": [
    "b.first"
   ]
  },
  {
   "cell_type": "code",
   "execution_count": 86,
   "id": "6b3691b9",
   "metadata": {},
   "outputs": [
    {
     "data": {
      "text/plain": [
       "200"
      ]
     },
     "execution_count": 86,
     "metadata": {},
     "output_type": "execute_result"
    }
   ],
   "source": [
    "b.second"
   ]
  },
  {
   "cell_type": "code",
   "execution_count": 87,
   "id": "67214f13",
   "metadata": {},
   "outputs": [],
   "source": [
    "class MoreFourCal(FourCal):\n",
    "    pass"
   ]
  },
  {
   "cell_type": "code",
   "execution_count": 88,
   "id": "261eba06",
   "metadata": {},
   "outputs": [],
   "source": [
    "a = MoreFourCal(6, 3)"
   ]
  },
  {
   "cell_type": "code",
   "execution_count": 89,
   "id": "a7008d03",
   "metadata": {},
   "outputs": [
    {
     "data": {
      "text/plain": [
       "9"
      ]
     },
     "execution_count": 89,
     "metadata": {},
     "output_type": "execute_result"
    }
   ],
   "source": [
    "a.add()"
   ]
  },
  {
   "cell_type": "code",
   "execution_count": 91,
   "id": "df7a93c1",
   "metadata": {},
   "outputs": [],
   "source": [
    "# 기능 추가\n",
    "class MoreFourCal(FourCal):\n",
    "    def pow(self):\n",
    "        result = self.first ** self.second\n",
    "        return result\n",
    "    # FourCal의 add() 수정\n",
    "    def add(self):\n",
    "        result = self.first + self.second + 1\n",
    "        return result"
   ]
  },
  {
   "cell_type": "code",
   "execution_count": 92,
   "id": "634c68be",
   "metadata": {},
   "outputs": [
    {
     "data": {
      "text/plain": [
       "8"
      ]
     },
     "execution_count": 92,
     "metadata": {},
     "output_type": "execute_result"
    }
   ],
   "source": [
    "Four = FourCal(3, 5)\n",
    "Four.add()"
   ]
  },
  {
   "cell_type": "code",
   "execution_count": 94,
   "id": "d9627448",
   "metadata": {},
   "outputs": [],
   "source": [
    "a = MoreFourCal(4, 6)"
   ]
  },
  {
   "cell_type": "code",
   "execution_count": 95,
   "id": "460c95ec",
   "metadata": {},
   "outputs": [
    {
     "data": {
      "text/plain": [
       "4096"
      ]
     },
     "execution_count": 95,
     "metadata": {},
     "output_type": "execute_result"
    }
   ],
   "source": [
    "a.pow()"
   ]
  },
  {
   "cell_type": "code",
   "execution_count": 96,
   "id": "3cb67f11",
   "metadata": {},
   "outputs": [
    {
     "data": {
      "text/plain": [
       "11"
      ]
     },
     "execution_count": 96,
     "metadata": {},
     "output_type": "execute_result"
    }
   ],
   "source": [
    "a.add()"
   ]
  },
  {
   "cell_type": "code",
   "execution_count": 97,
   "id": "ea3df710",
   "metadata": {},
   "outputs": [],
   "source": [
    "b = FourCal(5, 9)"
   ]
  },
  {
   "cell_type": "code",
   "execution_count": 98,
   "id": "22fdfb36",
   "metadata": {},
   "outputs": [
    {
     "ename": "AttributeError",
     "evalue": "'FourCal' object has no attribute 'pow'",
     "output_type": "error",
     "traceback": [
      "\u001b[1;31m---------------------------------------------------------------------------\u001b[0m",
      "\u001b[1;31mAttributeError\u001b[0m                            Traceback (most recent call last)",
      "Cell \u001b[1;32mIn[98], line 1\u001b[0m\n\u001b[1;32m----> 1\u001b[0m b\u001b[38;5;241m.\u001b[39mpow()\n",
      "\u001b[1;31mAttributeError\u001b[0m: 'FourCal' object has no attribute 'pow'"
     ]
    }
   ],
   "source": [
    "b.pow()"
   ]
  },
  {
   "cell_type": "code",
   "execution_count": 99,
   "id": "b7832c0a",
   "metadata": {},
   "outputs": [],
   "source": [
    "a = FourCal(4, 0)"
   ]
  },
  {
   "cell_type": "code",
   "execution_count": 100,
   "id": "7653f6b2",
   "metadata": {},
   "outputs": [
    {
     "ename": "ZeroDivisionError",
     "evalue": "division by zero",
     "output_type": "error",
     "traceback": [
      "\u001b[1;31m---------------------------------------------------------------------------\u001b[0m",
      "\u001b[1;31mZeroDivisionError\u001b[0m                         Traceback (most recent call last)",
      "Cell \u001b[1;32mIn[100], line 1\u001b[0m\n\u001b[1;32m----> 1\u001b[0m a\u001b[38;5;241m.\u001b[39mdiv()\n",
      "Cell \u001b[1;32mIn[80], line 23\u001b[0m, in \u001b[0;36mFourCal.div\u001b[1;34m(self)\u001b[0m\n\u001b[0;32m     22\u001b[0m \u001b[38;5;28;01mdef\u001b[39;00m \u001b[38;5;21mdiv\u001b[39m(\u001b[38;5;28mself\u001b[39m):\n\u001b[1;32m---> 23\u001b[0m     result \u001b[38;5;241m=\u001b[39m \u001b[38;5;28mself\u001b[39m\u001b[38;5;241m.\u001b[39mfirst \u001b[38;5;241m/\u001b[39m \u001b[38;5;28mself\u001b[39m\u001b[38;5;241m.\u001b[39msecond\n\u001b[0;32m     24\u001b[0m     \u001b[38;5;28;01mreturn\u001b[39;00m result\n",
      "\u001b[1;31mZeroDivisionError\u001b[0m: division by zero"
     ]
    }
   ],
   "source": [
    "a.div()"
   ]
  },
  {
   "cell_type": "code",
   "execution_count": 101,
   "id": "7b4dbae0",
   "metadata": {},
   "outputs": [],
   "source": [
    "class SafeFourCal(FourCal):\n",
    "    def div(self):\n",
    "        if self.second == 0:   # 나누는 값이 0인 경우 리턴하도록 수정\n",
    "            return 0\n",
    "        else:\n",
    "            return self.first / self.second"
   ]
  },
  {
   "cell_type": "code",
   "execution_count": 102,
   "id": "c02eba63",
   "metadata": {},
   "outputs": [],
   "source": [
    "a = SafeFourCal(4, 0)"
   ]
  },
  {
   "cell_type": "code",
   "execution_count": 103,
   "id": "2fa36eb6",
   "metadata": {},
   "outputs": [
    {
     "data": {
      "text/plain": [
       "0"
      ]
     },
     "execution_count": 103,
     "metadata": {},
     "output_type": "execute_result"
    }
   ],
   "source": [
    "a.div()"
   ]
  },
  {
   "cell_type": "code",
   "execution_count": 104,
   "id": "1168aa26",
   "metadata": {},
   "outputs": [
    {
     "data": {
      "text/plain": [
       "4"
      ]
     },
     "execution_count": 104,
     "metadata": {},
     "output_type": "execute_result"
    }
   ],
   "source": [
    "a.add()"
   ]
  },
  {
   "cell_type": "code",
   "execution_count": 105,
   "id": "8bbf5bbb",
   "metadata": {},
   "outputs": [],
   "source": [
    "class Family:\n",
    "    lastname = '김'"
   ]
  },
  {
   "cell_type": "code",
   "execution_count": 106,
   "id": "4527e8d5",
   "metadata": {},
   "outputs": [],
   "source": [
    "a = Family()"
   ]
  },
  {
   "cell_type": "code",
   "execution_count": 107,
   "id": "487178d1",
   "metadata": {},
   "outputs": [
    {
     "data": {
      "text/plain": [
       "'김'"
      ]
     },
     "execution_count": 107,
     "metadata": {},
     "output_type": "execute_result"
    }
   ],
   "source": [
    "a.lastname"
   ]
  },
  {
   "cell_type": "code",
   "execution_count": 110,
   "id": "87842051",
   "metadata": {},
   "outputs": [],
   "source": [
    "b = Family()"
   ]
  },
  {
   "cell_type": "code",
   "execution_count": 111,
   "id": "a078c210",
   "metadata": {},
   "outputs": [
    {
     "data": {
      "text/plain": [
       "'김'"
      ]
     },
     "execution_count": 111,
     "metadata": {},
     "output_type": "execute_result"
    }
   ],
   "source": [
    "b.lastname"
   ]
  },
  {
   "cell_type": "code",
   "execution_count": 112,
   "id": "c7457ef1",
   "metadata": {},
   "outputs": [
    {
     "data": {
      "text/plain": [
       "'김'"
      ]
     },
     "execution_count": 112,
     "metadata": {},
     "output_type": "execute_result"
    }
   ],
   "source": [
    "Family.lastname"
   ]
  },
  {
   "cell_type": "code",
   "execution_count": 113,
   "id": "b8dce031",
   "metadata": {},
   "outputs": [],
   "source": [
    "Family.lastname = '이'"
   ]
  },
  {
   "cell_type": "code",
   "execution_count": 114,
   "id": "0a0916a1",
   "metadata": {},
   "outputs": [
    {
     "data": {
      "text/plain": [
       "'이'"
      ]
     },
     "execution_count": 114,
     "metadata": {},
     "output_type": "execute_result"
    }
   ],
   "source": [
    "a.lastname"
   ]
  },
  {
   "cell_type": "code",
   "execution_count": 115,
   "id": "a9e7c550",
   "metadata": {},
   "outputs": [
    {
     "data": {
      "text/plain": [
       "'이'"
      ]
     },
     "execution_count": 115,
     "metadata": {},
     "output_type": "execute_result"
    }
   ],
   "source": [
    "b.lastname"
   ]
  },
  {
   "cell_type": "code",
   "execution_count": 116,
   "id": "9ca7c58d",
   "metadata": {},
   "outputs": [
    {
     "data": {
      "text/plain": [
       "1743165179344"
      ]
     },
     "execution_count": 116,
     "metadata": {},
     "output_type": "execute_result"
    }
   ],
   "source": [
    "id(Family.lastname)"
   ]
  },
  {
   "cell_type": "code",
   "execution_count": 117,
   "id": "d9df3420",
   "metadata": {},
   "outputs": [
    {
     "data": {
      "text/plain": [
       "1743165179344"
      ]
     },
     "execution_count": 117,
     "metadata": {},
     "output_type": "execute_result"
    }
   ],
   "source": [
    "id(a.lastname)"
   ]
  },
  {
   "cell_type": "code",
   "execution_count": 118,
   "id": "ce2c1055",
   "metadata": {},
   "outputs": [
    {
     "data": {
      "text/plain": [
       "1743165179344"
      ]
     },
     "execution_count": 118,
     "metadata": {},
     "output_type": "execute_result"
    }
   ],
   "source": [
    "id(b.lastname)"
   ]
  },
  {
   "cell_type": "code",
   "execution_count": 1,
   "id": "f1fd9573",
   "metadata": {},
   "outputs": [
    {
     "ename": "FileNotFoundError",
     "evalue": "[Errno 2] No such file or directory: 'one.txt'",
     "output_type": "error",
     "traceback": [
      "\u001b[1;31m---------------------------------------------------------------------------\u001b[0m",
      "\u001b[1;31mFileNotFoundError\u001b[0m                         Traceback (most recent call last)",
      "Cell \u001b[1;32mIn[1], line 2\u001b[0m\n\u001b[0;32m      1\u001b[0m \u001b[38;5;66;03m# FileNotFoundError 생성\u001b[39;00m\n\u001b[1;32m----> 2\u001b[0m f \u001b[38;5;241m=\u001b[39m \u001b[38;5;28mopen\u001b[39m(\u001b[38;5;124m\"\u001b[39m\u001b[38;5;124mone.txt\u001b[39m\u001b[38;5;124m\"\u001b[39m, \u001b[38;5;124m'\u001b[39m\u001b[38;5;124mr\u001b[39m\u001b[38;5;124m'\u001b[39m)\n",
      "File \u001b[1;32m~\\anaconda3\\Lib\\site-packages\\IPython\\core\\interactiveshell.py:284\u001b[0m, in \u001b[0;36m_modified_open\u001b[1;34m(file, *args, **kwargs)\u001b[0m\n\u001b[0;32m    277\u001b[0m \u001b[38;5;28;01mif\u001b[39;00m file \u001b[38;5;129;01min\u001b[39;00m {\u001b[38;5;241m0\u001b[39m, \u001b[38;5;241m1\u001b[39m, \u001b[38;5;241m2\u001b[39m}:\n\u001b[0;32m    278\u001b[0m     \u001b[38;5;28;01mraise\u001b[39;00m \u001b[38;5;167;01mValueError\u001b[39;00m(\n\u001b[0;32m    279\u001b[0m         \u001b[38;5;124mf\u001b[39m\u001b[38;5;124m\"\u001b[39m\u001b[38;5;124mIPython won\u001b[39m\u001b[38;5;124m'\u001b[39m\u001b[38;5;124mt let you open fd=\u001b[39m\u001b[38;5;132;01m{\u001b[39;00mfile\u001b[38;5;132;01m}\u001b[39;00m\u001b[38;5;124m by default \u001b[39m\u001b[38;5;124m\"\u001b[39m\n\u001b[0;32m    280\u001b[0m         \u001b[38;5;124m\"\u001b[39m\u001b[38;5;124mas it is likely to crash IPython. If you know what you are doing, \u001b[39m\u001b[38;5;124m\"\u001b[39m\n\u001b[0;32m    281\u001b[0m         \u001b[38;5;124m\"\u001b[39m\u001b[38;5;124myou can use builtins\u001b[39m\u001b[38;5;124m'\u001b[39m\u001b[38;5;124m open.\u001b[39m\u001b[38;5;124m\"\u001b[39m\n\u001b[0;32m    282\u001b[0m     )\n\u001b[1;32m--> 284\u001b[0m \u001b[38;5;28;01mreturn\u001b[39;00m io_open(file, \u001b[38;5;241m*\u001b[39margs, \u001b[38;5;241m*\u001b[39m\u001b[38;5;241m*\u001b[39mkwargs)\n",
      "\u001b[1;31mFileNotFoundError\u001b[0m: [Errno 2] No such file or directory: 'one.txt'"
     ]
    }
   ],
   "source": [
    "# FileNotFoundError 생성\n",
    "f = open(\"one.txt\", 'r')"
   ]
  },
  {
   "cell_type": "code",
   "execution_count": 2,
   "id": "e849ef91",
   "metadata": {},
   "outputs": [
    {
     "ename": "IndexError",
     "evalue": "list index out of range",
     "output_type": "error",
     "traceback": [
      "\u001b[1;31m---------------------------------------------------------------------------\u001b[0m",
      "\u001b[1;31mIndexError\u001b[0m                                Traceback (most recent call last)",
      "Cell \u001b[1;32mIn[2], line 2\u001b[0m\n\u001b[0;32m      1\u001b[0m a \u001b[38;5;241m=\u001b[39m [\u001b[38;5;241m1\u001b[39m, \u001b[38;5;241m2\u001b[39m, \u001b[38;5;241m3\u001b[39m, \u001b[38;5;241m4\u001b[39m, \u001b[38;5;241m5\u001b[39m]\n\u001b[1;32m----> 2\u001b[0m a[\u001b[38;5;241m5\u001b[39m]\n",
      "\u001b[1;31mIndexError\u001b[0m: list index out of range"
     ]
    }
   ],
   "source": [
    "a = [1, 2, 3, 4, 5]\n",
    "a[5]"
   ]
  },
  {
   "cell_type": "code",
   "execution_count": 4,
   "id": "07cd354e",
   "metadata": {},
   "outputs": [
    {
     "ename": "ZeroDivisionError",
     "evalue": "division by zero",
     "output_type": "error",
     "traceback": [
      "\u001b[1;31m---------------------------------------------------------------------------\u001b[0m",
      "\u001b[1;31mZeroDivisionError\u001b[0m                         Traceback (most recent call last)",
      "Cell \u001b[1;32mIn[4], line 3\u001b[0m\n\u001b[0;32m      1\u001b[0m a \u001b[38;5;241m=\u001b[39m [\u001b[38;5;241m1\u001b[39m, \u001b[38;5;241m2\u001b[39m, \u001b[38;5;241m3\u001b[39m, \u001b[38;5;241m4\u001b[39m, \u001b[38;5;241m5\u001b[39m, \u001b[38;5;241m6\u001b[39m]\n\u001b[0;32m      2\u001b[0m \u001b[38;5;28;01mtry\u001b[39;00m:\n\u001b[1;32m----> 3\u001b[0m     \u001b[38;5;241m4\u001b[39m \u001b[38;5;241m/\u001b[39m \u001b[38;5;241m0\u001b[39m\n\u001b[0;32m      4\u001b[0m     a[\u001b[38;5;241m10\u001b[39m]\n\u001b[0;32m      5\u001b[0m \u001b[38;5;28;01mexcept\u001b[39;00m \u001b[38;5;167;01mIndexError\u001b[39;00m \u001b[38;5;28;01mas\u001b[39;00m e:\n",
      "\u001b[1;31mZeroDivisionError\u001b[0m: division by zero"
     ]
    }
   ],
   "source": [
    "a = [1, 2, 3, 4, 5, 6]\n",
    "try:\n",
    "    a[10]\n",
    "except IndexError as e:\n",
    "    print(e)"
   ]
  },
  {
   "cell_type": "code",
   "execution_count": 5,
   "id": "e10321e4",
   "metadata": {},
   "outputs": [
    {
     "name": "stdout",
     "output_type": "stream",
     "text": [
      "division by zero\n"
     ]
    }
   ],
   "source": [
    "try:\n",
    "    4 / 0\n",
    "except ZeroDivisionError as e:\n",
    "    print(e)"
   ]
  },
  {
   "cell_type": "code",
   "execution_count": 6,
   "id": "1c79ec3f",
   "metadata": {},
   "outputs": [
    {
     "name": "stdout",
     "output_type": "stream",
     "text": [
      "오류남\n"
     ]
    }
   ],
   "source": [
    "try:\n",
    "    f = open(\"C:/py_data/없는파일.csv\", 'r')\n",
    "except:\n",
    "    print('오류남')"
   ]
  },
  {
   "cell_type": "code",
   "execution_count": 7,
   "id": "6f309fe0",
   "metadata": {},
   "outputs": [
    {
     "name": "stdout",
     "output_type": "stream",
     "text": [
      "1\n",
      "찾았다!\n"
     ]
    }
   ],
   "source": [
    "a = [1, 2, 3, 4, 5, 6, 6]\n",
    "try:\n",
    "    print(a[0])\n",
    "finally:\n",
    "    print('찾았다!')"
   ]
  },
  {
   "cell_type": "code",
   "execution_count": 8,
   "id": "f5d7a070",
   "metadata": {},
   "outputs": [
    {
     "name": "stdout",
     "output_type": "stream",
     "text": [
      "찾았다!\n"
     ]
    },
    {
     "ename": "IndexError",
     "evalue": "list index out of range",
     "output_type": "error",
     "traceback": [
      "\u001b[1;31m---------------------------------------------------------------------------\u001b[0m",
      "\u001b[1;31mIndexError\u001b[0m                                Traceback (most recent call last)",
      "Cell \u001b[1;32mIn[8], line 3\u001b[0m\n\u001b[0;32m      1\u001b[0m a \u001b[38;5;241m=\u001b[39m [\u001b[38;5;241m1\u001b[39m, \u001b[38;5;241m2\u001b[39m, \u001b[38;5;241m3\u001b[39m, \u001b[38;5;241m4\u001b[39m, \u001b[38;5;241m5\u001b[39m, \u001b[38;5;241m6\u001b[39m, \u001b[38;5;241m6\u001b[39m]\n\u001b[0;32m      2\u001b[0m \u001b[38;5;28;01mtry\u001b[39;00m:\n\u001b[1;32m----> 3\u001b[0m     \u001b[38;5;28mprint\u001b[39m(a[\u001b[38;5;241m100\u001b[39m])\n\u001b[0;32m      4\u001b[0m \u001b[38;5;28;01mfinally\u001b[39;00m:\n\u001b[0;32m      5\u001b[0m     \u001b[38;5;28mprint\u001b[39m(\u001b[38;5;124m'\u001b[39m\u001b[38;5;124m찾았다!\u001b[39m\u001b[38;5;124m'\u001b[39m)\n",
      "\u001b[1;31mIndexError\u001b[0m: list index out of range"
     ]
    }
   ],
   "source": [
    "a = [1, 2, 3, 4, 5, 6, 6]\n",
    "try:\n",
    "    print(a[100])\n",
    "finally:\n",
    "    print('찾았다!')"
   ]
  },
  {
   "cell_type": "code",
   "execution_count": 9,
   "id": "0662c6c1",
   "metadata": {},
   "outputs": [
    {
     "name": "stdout",
     "output_type": "stream",
     "text": [
      "없네요\n",
      "찾았다!\n"
     ]
    }
   ],
   "source": [
    "a = [1, 2, 3, 4, 5, 6, 6]\n",
    "try:\n",
    "    print(a[100])\n",
    "except:\n",
    "    print('없네요')\n",
    "finally:\n",
    "    print('찾았다!')"
   ]
  },
  {
   "cell_type": "code",
   "execution_count": 10,
   "id": "9cecb062",
   "metadata": {},
   "outputs": [
    {
     "name": "stdout",
     "output_type": "stream",
     "text": [
      "0으로 못 나눠요\n"
     ]
    }
   ],
   "source": [
    "a = [0, 1, 2, 3, 4, 5]\n",
    "b = [1, 2, 3, 4, 56, 21]\n",
    "try:\n",
    "    b[2]/a[0]\n",
    "except ZeroDivisionError:\n",
    "    print('0으로 못 나눠요')\n",
    "except IndexError:\n",
    "    print('해당 위치에는 아무것도 없어요')"
   ]
  },
  {
   "cell_type": "code",
   "execution_count": 11,
   "id": "fdc7b6ea",
   "metadata": {},
   "outputs": [
    {
     "name": "stdout",
     "output_type": "stream",
     "text": [
      "해당 위치에는 아무것도 없어요\n"
     ]
    }
   ],
   "source": [
    "a = [0, 1, 2, 3, 4, 5]\n",
    "b = [1, 2, 3, 4, 56, 21]\n",
    "try:\n",
    "    b[2]/a[100]\n",
    "except ZeroDivisionError:\n",
    "    print('0으로 못 나눠요')\n",
    "except IndexError:\n",
    "    print('해당 위치에는 아무것도 없어요')"
   ]
  },
  {
   "cell_type": "code",
   "execution_count": 15,
   "id": "43431fd8",
   "metadata": {},
   "outputs": [
    {
     "name": "stdout",
     "output_type": "stream",
     "text": [
      "list index out of range\n"
     ]
    }
   ],
   "source": [
    "try:\n",
    "    a = [1, 2]\n",
    "    print(a[3])\n",
    "    4/0\n",
    "except (ZeroDivisionError,IndexError) as e:\n",
    "    print(e)"
   ]
  },
  {
   "cell_type": "code",
   "execution_count": 17,
   "id": "1d8bc992",
   "metadata": {},
   "outputs": [
    {
     "name": "stdout",
     "output_type": "stream",
     "text": [
      "division by zero\n",
      "힘내서 수업듣자.\n"
     ]
    }
   ],
   "source": [
    "# 오류 회피\n",
    "try:\n",
    "    a = [1, 2]\n",
    "    4 / 0\n",
    "    print(a[3])\n",
    "except(ZeroDivisionError, IndexError) as e:\n",
    "    print(e)\n",
    "    pass\n",
    "\n",
    "print(\"힘내서 수업듣자.\")"
   ]
  },
  {
   "cell_type": "code",
   "execution_count": 20,
   "id": "243a6821",
   "metadata": {},
   "outputs": [
    {
     "name": "stdout",
     "output_type": "stream",
     "text": [
      "0\n"
     ]
    }
   ],
   "source": [
    "try:\n",
    "    a = [1, 2]\n",
    "    4 / 0\n",
    "    print(a[3])\n",
    "except ZeroDivisionError:\n",
    "    print(0)\n",
    "except IndexError:\n",
    "    print(\"인덱스의 길이를 넘었습니다.\")"
   ]
  },
  {
   "cell_type": "code",
   "execution_count": 21,
   "id": "c25f20d0",
   "metadata": {},
   "outputs": [
    {
     "name": "stdout",
     "output_type": "stream",
     "text": [
      "나이를 입력하세요: 서른\n",
      "입력이 정확하지 않습니다.\n"
     ]
    }
   ],
   "source": [
    "try:\n",
    "    age = int(input('나이를 입력하세요: '))\n",
    "except:\n",
    "    print('입력이 정확하지 않습니다.')\n",
    "else:\n",
    "    if age <= 18:\n",
    "        print('미성년자는 출입금지입니다.')\n",
    "    else:\n",
    "        print('환영합니다.')"
   ]
  },
  {
   "cell_type": "code",
   "execution_count": null,
   "id": "e62857d8",
   "metadata": {},
   "outputs": [],
   "source": []
  }
 ],
 "metadata": {
  "kernelspec": {
   "display_name": "Python 3 (ipykernel)",
   "language": "python",
   "name": "python3"
  },
  "language_info": {
   "codemirror_mode": {
    "name": "ipython",
    "version": 3
   },
   "file_extension": ".py",
   "mimetype": "text/x-python",
   "name": "python",
   "nbconvert_exporter": "python",
   "pygments_lexer": "ipython3",
   "version": "3.11.3"
  }
 },
 "nbformat": 4,
 "nbformat_minor": 5
}
